{
 "cells": [
  {
   "cell_type": "code",
   "execution_count": 0,
   "metadata": {
    "application/vnd.databricks.v1+cell": {
     "cellMetadata": {
      "byteLimit": 2048000,
      "rowLimit": 10000
     },
     "inputWidgets": {},
     "nuid": "aaabe6d3-8722-4998-b366-18e14becc79c",
     "showTitle": false,
     "tableResultSettingsMap": {},
     "title": ""
    }
   },
   "outputs": [
    {
     "output_type": "stream",
     "name": "stdout",
     "output_type": "stream",
     "text": [
      "root\n |-- body: binary (nullable = true)\n |-- partition: string (nullable = true)\n |-- offset: string (nullable = true)\n |-- sequenceNumber: long (nullable = true)\n |-- enqueuedTime: timestamp (nullable = true)\n |-- publisher: string (nullable = true)\n |-- partitionKey: string (nullable = true)\n |-- properties: map (nullable = true)\n |    |-- key: string\n |    |-- value: string (valueContainsNull = true)\n |-- systemProperties: map (nullable = true)\n |    |-- key: string\n |    |-- value: string (valueContainsNull = true)\n\n"
     ]
    }
   ],
   "source": [
    "\n",
    "# Replace with your Event Hub connection string\n",
    "connectionString = \"Endpoint=sb://traffic-demo.servicebus.windows.net/;SharedAccessKeyName=traffic-policy;SharedAccessKey=PU8yH9p9XVMvnU5odDnUWCxddYrGUbkYu+AEhJpOVMI=;EntityPath=traffic-iot\"\n",
    "\n",
    "ehConf = {\n",
    "  'eventhubs.connectionString' : connectionString\n",
    "}\n",
    "\n",
    "# Read stream from Event Hub\n",
    "df = spark.readStream \\\n",
    "    .format(\"eventhubs\") \\\n",
    "    .options(**ehConf) \\\n",
    "    .load()\n",
    "\n",
    "df.printSchema()\n"
   ]
  },
  {
   "cell_type": "code",
   "execution_count": 0,
   "metadata": {
    "application/vnd.databricks.v1+cell": {
     "cellMetadata": {
      "byteLimit": 2048000,
      "rowLimit": 10000
     },
     "inputWidgets": {},
     "nuid": "57e6ac6b-41f5-438f-a750-cc54e84c2eb1",
     "showTitle": false,
     "tableResultSettingsMap": {},
     "title": ""
    }
   },
   "outputs": [
    {
     "output_type": "stream",
     "name": "stdout",
     "output_type": "stream",
     "text": [
      "Collecting azure-eventhub\n  Downloading azure_eventhub-5.15.0-py3-none-any.whl.metadata (73 kB)\n\u001B[?25l     \u001B[90m━━━━━━━━━━━━━━━━━━━━━━━━━━━━━━━━━━━━━━━━\u001B[0m \u001B[32m0.0/73.1 kB\u001B[0m \u001B[31m?\u001B[0m eta \u001B[36m-:--:--\u001B[0m\n\u001B[2K     \u001B[91m━━━━━━━━━━━━━━━━━━━━━━━━━━━━━━━━━━━━━━━\u001B[0m\u001B[90m╺\u001B[0m \u001B[32m71.7/73.1 kB\u001B[0m \u001B[31m4.6 MB/s\u001B[0m eta \u001B[36m0:00:01\u001B[0m\n\u001B[2K     \u001B[90m━━━━━━━━━━━━━━━━━━━━━━━━━━━━━━━━━━━━━━━━\u001B[0m \u001B[32m73.1/73.1 kB\u001B[0m \u001B[31m1.4 MB/s\u001B[0m eta \u001B[36m0:00:00\u001B[0m\n\u001B[?25hRequirement already satisfied: azure-core>=1.27.0 in /databricks/python3/lib/python3.12/site-packages (from azure-eventhub) (1.31.0)\nRequirement already satisfied: typing-extensions>=4.0.1 in /databricks/python3/lib/python3.12/site-packages (from azure-eventhub) (4.11.0)\nRequirement already satisfied: requests>=2.21.0 in /databricks/python3/lib/python3.12/site-packages (from azure-core>=1.27.0->azure-eventhub) (2.32.2)\nRequirement already satisfied: six>=1.11.0 in /usr/lib/python3/dist-packages (from azure-core>=1.27.0->azure-eventhub) (1.16.0)\nRequirement already satisfied: charset-normalizer<4,>=2 in /databricks/python3/lib/python3.12/site-packages (from requests>=2.21.0->azure-core>=1.27.0->azure-eventhub) (2.0.4)\nRequirement already satisfied: idna<4,>=2.5 in /databricks/python3/lib/python3.12/site-packages (from requests>=2.21.0->azure-core>=1.27.0->azure-eventhub) (3.7)\nRequirement already satisfied: urllib3<3,>=1.21.1 in /databricks/python3/lib/python3.12/site-packages (from requests>=2.21.0->azure-core>=1.27.0->azure-eventhub) (1.26.16)\nRequirement already satisfied: certifi>=2017.4.17 in /databricks/python3/lib/python3.12/site-packages (from requests>=2.21.0->azure-core>=1.27.0->azure-eventhub) (2024.6.2)\nDownloading azure_eventhub-5.15.0-py3-none-any.whl (327 kB)\n\u001B[?25l   \u001B[90m━━━━━━━━━━━━━━━━━━━━━━━━━━━━━━━━━━━━━━━━\u001B[0m \u001B[32m0.0/327.8 kB\u001B[0m \u001B[31m?\u001B[0m eta \u001B[36m-:--:--\u001B[0m\n\u001B[2K   \u001B[91m━━━━━━━━━━━━━━━━━━━━━━━━━━━━━━━━━━━━━━━\u001B[0m\u001B[91m╸\u001B[0m \u001B[32m327.7/327.8 kB\u001B[0m \u001B[31m37.3 MB/s\u001B[0m eta \u001B[36m0:00:01\u001B[0m\n\u001B[2K   \u001B[90m━━━━━━━━━━━━━━━━━━━━━━━━━━━━━━━━━━━━━━━━\u001B[0m \u001B[32m327.8/327.8 kB\u001B[0m \u001B[31m6.2 MB/s\u001B[0m eta \u001B[36m0:00:00\u001B[0m\n\u001B[?25hInstalling collected packages: azure-eventhub\nSuccessfully installed azure-eventhub-5.15.0\n\u001B[43mNote: you may need to restart the kernel using %restart_python or dbutils.library.restartPython() to use updated packages.\u001B[0m\n"
     ]
    }
   ],
   "source": [
    "%pip install azure-eventhub"
   ]
  },
  {
   "cell_type": "code",
   "execution_count": 0,
   "metadata": {
    "application/vnd.databricks.v1+cell": {
     "cellMetadata": {
      "byteLimit": 2048000,
      "rowLimit": 10000
     },
     "inputWidgets": {},
     "nuid": "8eaec050-5836-44e4-a091-f06e8b76bb36",
     "showTitle": false,
     "tableResultSettingsMap": {},
     "title": ""
    }
   },
   "outputs": [],
   "source": [
    "dbutils.library.restartPython()"
   ]
  },
  {
   "cell_type": "code",
   "execution_count": 0,
   "metadata": {
    "application/vnd.databricks.v1+cell": {
     "cellMetadata": {
      "byteLimit": 2048000,
      "rowLimit": 10000
     },
     "inputWidgets": {},
     "nuid": "56546f03-81ae-428a-b097-0e2e41823c25",
     "showTitle": false,
     "tableResultSettingsMap": {},
     "title": ""
    }
   },
   "outputs": [
    {
     "output_type": "stream",
     "name": "stdout",
     "output_type": "stream",
     "text": [
      "Received event from partition: 0\n{\"vehicle_id\": 9332, \"speed\": 110, \"timestamp\": \"2025-08-28 18:43:13.731219\"}\nReceived event from partition: 0\n{\"vehicle_id\": 7079, \"speed\": 117, \"timestamp\": \"2025-08-28 18:43:18.922162\"}\nReceived event from partition: 0\n{\"vehicle_id\": 4978, \"speed\": 72, \"timestamp\": \"2025-08-28 18:43:24.261847\"}\nReceived event from partition: 1\n{\"vehicle_id\": 4925, \"speed\": 79, \"timestamp\": \"2025-08-28 18:43:27.841534\"}\nReceived event from partition: 0\n{\"vehicle_id\": 8024, \"speed\": 113, \"timestamp\": \"2025-08-28 18:43:35.548794\"}\nReceived event from partition: 1\n{\"vehicle_id\": 6605, \"speed\": 20, \"timestamp\": \"2025-08-28 18:43:31.710027\"}\nReceived event from partition: 0\n{\"vehicle_id\": 8417, \"speed\": 114, \"timestamp\": \"2025-08-28 18:43:39.851699\"}\nReceived event from partition: 1\n{\"vehicle_id\": 2450, \"speed\": 68, \"timestamp\": \"2025-08-28 18:43:47.834024\"}\nReceived event from partition: 0\n{\"vehicle_id\": 1889, \"speed\": 120, \"timestamp\": \"2025-08-28 18:43:43.913644\"}\nReceived event from partition: 1\n{\"vehicle_id\": 9278, \"speed\": 52, \"timestamp\": \"2025-08-28 18:43:56.346297\"}\nReceived event from partition: 0\n{\"vehicle_id\": 6178, \"speed\": 104, \"timestamp\": \"2025-08-28 18:43:51.911884\"}\nReceived event from partition: 1\n{\"vehicle_id\": 9002, \"speed\": 112, \"timestamp\": \"2025-08-28 18:44:00.838685\"}\nReceived event from partition: 0\n{\"vehicle_id\": 7314, \"speed\": 55, \"timestamp\": \"2025-08-28 18:44:08.906110\"}\nReceived event from partition: 1\n{\"vehicle_id\": 8900, \"speed\": 44, \"timestamp\": \"2025-08-28 18:44:04.837131\"}\nReceived event from partition: 0\n{\"vehicle_id\": 4182, \"speed\": 59, \"timestamp\": \"2025-08-28 18:44:12.854601\"}\nReceived event from partition: 1\n{\"vehicle_id\": 1245, \"speed\": 99, \"timestamp\": \"2025-08-28 18:44:16.873968\"}\nReceived event from partition: 0\n{\"vehicle_id\": 2047, \"speed\": 60, \"timestamp\": \"2025-08-28 18:44:20.712826\"}\nReceived event from partition: 1\n{\"vehicle_id\": 1877, \"speed\": 83, \"timestamp\": \"2025-08-28 18:44:28.787500\"}\nReceived event from partition: 0\n{\"vehicle_id\": 8179, \"speed\": 86, \"timestamp\": \"2025-08-28 18:44:24.770341\"}\nReceived event from partition: 1\n{\"vehicle_id\": 1050, \"speed\": 58, \"timestamp\": \"2025-08-28 18:44:32.695367\"}\nReceived event from partition: 0\n{\"vehicle_id\": 7651, \"speed\": 61, \"timestamp\": \"2025-08-28 18:44:44.792202\"}\nReceived event from partition: 1\n{\"vehicle_id\": 4879, \"speed\": 20, \"timestamp\": \"2025-08-28 18:44:36.641044\"}\nReceived event from partition: 0\n{\"vehicle_id\": 2794, \"speed\": 111, \"timestamp\": \"2025-08-28 18:44:48.605328\"}\nReceived event from partition: 1\n{\"vehicle_id\": 8322, \"speed\": 87, \"timestamp\": \"2025-08-28 18:44:40.670415\"}\nReceived event from partition: 0\n{\"vehicle_id\": 8052, \"speed\": 58, \"timestamp\": \"2025-08-28 18:45:00.415272\"}\nReceived event from partition: 1\n{\"vehicle_id\": 3095, \"speed\": 98, \"timestamp\": \"2025-08-28 18:44:52.536593\"}\nReceived event from partition: 0\n{\"vehicle_id\": 5732, \"speed\": 35, \"timestamp\": \"2025-08-28 18:45:08.172280\"}\nReceived event from partition: 1\n{\"vehicle_id\": 7634, \"speed\": 71, \"timestamp\": \"2025-08-28 18:44:56.516922\"}\nReceived event from partition: 0\n{\"vehicle_id\": 8912, \"speed\": 33, \"timestamp\": \"2025-08-28 18:45:12.156707\"}\nReceived event from partition: 1\n{\"vehicle_id\": 2860, \"speed\": 66, \"timestamp\": \"2025-08-28 18:45:04.271000\"}\nReceived event from partition: 0\n{\"vehicle_id\": 9786, \"speed\": 23, \"timestamp\": \"2025-08-28 18:45:24.061492\"}\nReceived event from partition: 1\n{\"vehicle_id\": 7258, \"speed\": 65, \"timestamp\": \"2025-08-28 18:45:15.953252\"}\nReceived event from partition: 0\n{\"vehicle_id\": 8615, \"speed\": 97, \"timestamp\": \"2025-08-28 18:45:28.475501\"}\nReceived event from partition: 1\n{\"vehicle_id\": 8625, \"speed\": 29, \"timestamp\": \"2025-08-28 18:45:19.892444\"}\nReceived event from partition: 0\n{\"vehicle_id\": 7130, \"speed\": 101, \"timestamp\": \"2025-08-28 18:45:32.444946\"}\nReceived event from partition: 1\n{\"vehicle_id\": 8440, \"speed\": 67, \"timestamp\": \"2025-08-28 18:45:36.282574\"}\nReceived event from partition: 0\n{\"vehicle_id\": 8161, \"speed\": 92, \"timestamp\": \"2025-08-28 18:45:52.459039\"}\nReceived event from partition: 1\n{\"vehicle_id\": 7601, \"speed\": 52, \"timestamp\": \"2025-08-28 18:45:40.202075\"}\nReceived event from partition: 0\n{\"vehicle_id\": 2467, \"speed\": 91, \"timestamp\": \"2025-08-28 18:45:56.471307\"}\nReceived event from partition: 1\n{\"vehicle_id\": 2785, \"speed\": 30, \"timestamp\": \"2025-08-28 18:45:44.467046\"}\nReceived event from partition: 0\n{\"vehicle_id\": 9648, \"speed\": 26, \"timestamp\": \"2025-08-28 18:46:00.416659\"}\nReceived event from partition: 1\n{\"vehicle_id\": 3892, \"speed\": 72, \"timestamp\": \"2025-08-28 18:45:48.403890\"}\nReceived event from partition: 0\n{\"vehicle_id\": 9571, \"speed\": 40, \"timestamp\": \"2025-08-28 18:46:04.333684\"}\nReceived event from partition: 1\n{\"vehicle_id\": 1956, \"speed\": 46, \"timestamp\": \"2025-08-28 18:46:08.649736\"}\nReceived event from partition: 0\n{\"vehicle_id\": 9504, \"speed\": 51, \"timestamp\": \"2025-08-28 18:46:16.482345\"}\nReceived event from partition: 1\n{\"vehicle_id\": 9078, \"speed\": 33, \"timestamp\": \"2025-08-28 18:46:12.533450\"}\nReceived event from partition: 0\n{\"vehicle_id\": 4162, \"speed\": 44, \"timestamp\": \"2025-08-28 18:46:20.292058\"}\nReceived event from partition: 1\n{\"vehicle_id\": 3321, \"speed\": 28, \"timestamp\": \"2025-08-28 18:46:36.132430\"}\nReceived event from partition: 0\n{\"vehicle_id\": 3536, \"speed\": 49, \"timestamp\": \"2025-08-28 18:46:24.245834\"}\nReceived event from partition: 1\n{\"vehicle_id\": 3922, \"speed\": 116, \"timestamp\": \"2025-08-28 18:46:43.946468\"}\nReceived event from partition: 0\n{\"vehicle_id\": 4095, \"speed\": 87, \"timestamp\": \"2025-08-28 18:46:28.378791\"}\nReceived event from partition: 1\n{\"vehicle_id\": 8922, \"speed\": 101, \"timestamp\": \"2025-08-28 18:46:47.865973\"}\nReceived event from partition: 0\n{\"vehicle_id\": 7101, \"speed\": 112, \"timestamp\": \"2025-08-28 18:46:32.326836\"}\nReceived event from partition: 1\n{\"vehicle_id\": 5015, \"speed\": 116, \"timestamp\": \"2025-08-28 18:46:55.905269\"}\nReceived event from partition: 0\n{\"vehicle_id\": 4864, \"speed\": 60, \"timestamp\": \"2025-08-28 18:46:40.005645\"}\nReceived event from partition: 1\n{\"vehicle_id\": 9908, \"speed\": 118, \"timestamp\": \"2025-08-28 18:47:03.719346\"}\nReceived event from partition: 0\n{\"vehicle_id\": 3959, \"speed\": 29, \"timestamp\": \"2025-08-28 18:46:51.743005\"}\nReceived event from partition: 1\n{\"vehicle_id\": 6131, \"speed\": 117, \"timestamp\": \"2025-08-28 18:47:16.073845\"}\nReceived event from partition: 0\n{\"vehicle_id\": 4514, \"speed\": 41, \"timestamp\": \"2025-08-28 18:46:59.778166\"}\nReceived event from partition: 1\n{\"vehicle_id\": 5970, \"speed\": 77, \"timestamp\": \"2025-08-28 18:47:20.144617\"}\nReceived event from partition: 0\n{\"vehicle_id\": 8605, \"speed\": 119, \"timestamp\": \"2025-08-28 18:47:07.800958\"}\nReceived event from partition: 1\n{\"vehicle_id\": 3114, \"speed\": 79, \"timestamp\": \"2025-08-28 18:47:28.352418\"}\nReceived event from partition: 0\n{\"vehicle_id\": 9427, \"speed\": 99, \"timestamp\": \"2025-08-28 18:47:12.019466\"}\nReceived event from partition: 1\n{\"vehicle_id\": 4183, \"speed\": 94, \"timestamp\": \"2025-08-28 18:47:36.598572\"}\nReceived event from partition: 0\n{\"vehicle_id\": 2309, \"speed\": 93, \"timestamp\": \"2025-08-28 18:47:24.418982\"}\nReceived event from partition: 1\n{\"vehicle_id\": 5567, \"speed\": 99, \"timestamp\": \"2025-08-28 18:47:52.249121\"}\nReceived event from partition: 0\n{\"vehicle_id\": 6804, \"speed\": 117, \"timestamp\": \"2025-08-28 18:47:32.529939\"}\nReceived event from partition: 1\n{\"vehicle_id\": 6193, \"speed\": 49, \"timestamp\": \"2025-08-28 18:48:03.613405\"}\nReceived event from partition: 0\n{\"vehicle_id\": 2428, \"speed\": 119, \"timestamp\": \"2025-08-28 18:47:40.659084\"}\nReceived event from partition: 1\n{\"vehicle_id\": 8800, \"speed\": 65, \"timestamp\": \"2025-08-28 18:48:07.355024\"}\nReceived event from partition: 0\n{\"vehicle_id\": 5227, \"speed\": 52, \"timestamp\": \"2025-08-28 18:47:44.577627\"}\nReceived event from partition: 1\n{\"vehicle_id\": 1915, \"speed\": 46, \"timestamp\": \"2025-08-28 18:48:11.188988\"}\nReceived event from partition: 0\n{\"vehicle_id\": 1878, \"speed\": 40, \"timestamp\": \"2025-08-28 18:47:48.447560\"}\nReceived event from partition: 1\n{\"vehicle_id\": 6382, \"speed\": 26, \"timestamp\": \"2025-08-28 18:48:15.563250\"}\nReceived event from partition: 0\n{\"vehicle_id\": 8102, \"speed\": 105, \"timestamp\": \"2025-08-28 18:47:56.102148\"}\nReceived event from partition: 1\n{\"vehicle_id\": 2589, \"speed\": 62, \"timestamp\": \"2025-08-28 18:48:31.474717\"}\nReceived event from partition: 0\n{\"vehicle_id\": 5171, \"speed\": 46, \"timestamp\": \"2025-08-28 18:47:59.874801\"}\nReceived event from partition: 1\n{\"vehicle_id\": 6454, \"speed\": 37, \"timestamp\": \"2025-08-28 18:48:43.110933\"}\nReceived event from partition: 0\n{\"vehicle_id\": 2020, \"speed\": 28, \"timestamp\": \"2025-08-28 18:48:19.907102\"}\nReceived event from partition: 1\n{\"vehicle_id\": 7128, \"speed\": 41, \"timestamp\": \"2025-08-28 18:48:46.617567\"}\nReceived event from partition: 0\n{\"vehicle_id\": 7044, \"speed\": 68, \"timestamp\": \"2025-08-28 18:48:23.726585\"}\nReceived event from partition: 1\n{\"vehicle_id\": 1242, \"speed\": 82, \"timestamp\": \"2025-08-28 18:48:53.589189\"}\nReceived event from partition: 0\n{\"vehicle_id\": 1539, \"speed\": 48, \"timestamp\": \"2025-08-28 18:48:27.572729\"}\nReceived event from partition: 1\n{\"vehicle_id\": 7030, \"speed\": 93, \"timestamp\": \"2025-08-28 18:49:03.826902\"}\nReceived event from partition: 0\n{\"vehicle_id\": 3905, \"speed\": 103, \"timestamp\": \"2025-08-28 18:48:35.408107\"}\nReceived event from partition: 1\n{\"vehicle_id\": 2842, \"speed\": 82, \"timestamp\": \"2025-08-28 18:49:07.238228\"}\nReceived event from partition: 0\n{\"vehicle_id\": 9255, \"speed\": 70, \"timestamp\": \"2025-08-28 18:48:39.426254\"}\nReceived event from partition: 1\n{\"vehicle_id\": 8703, \"speed\": 86, \"timestamp\": \"2025-08-28 18:49:10.667823\"}\nReceived event from partition: 0\n{\"vehicle_id\": 5442, \"speed\": 80, \"timestamp\": \"2025-08-28 18:48:50.048728\"}\nReceived event from partition: 1\n{\"vehicle_id\": 4197, \"speed\": 102, \"timestamp\": \"2025-08-28 18:49:14.127022\"}\nReceived event from partition: 0\n{\"vehicle_id\": 4343, \"speed\": 66, \"timestamp\": \"2025-08-28 18:48:57.016821\"}\nReceived event from partition: 1\n{\"vehicle_id\": 8787, \"speed\": 103, \"timestamp\": \"2025-08-28 18:49:17.597551\"}\nReceived event from partition: 0\n{\"vehicle_id\": 5679, \"speed\": 39, \"timestamp\": \"2025-08-28 18:49:00.406107\"}\nReceived event from partition: 1\n{\"vehicle_id\": 2091, \"speed\": 47, \"timestamp\": \"2025-08-28 18:49:24.403796\"}\nReceived event from partition: 0\n{\"vehicle_id\": 5729, \"speed\": 90, \"timestamp\": \"2025-08-28 18:49:20.993844\"}\nReceived event from partition: 1\n{\"vehicle_id\": 1475, \"speed\": 110, \"timestamp\": \"2025-08-28 18:49:37.844525\"}\nReceived event from partition: 0\n{\"vehicle_id\": 7772, \"speed\": 28, \"timestamp\": \"2025-08-28 18:49:27.809791\"}\nReceived event from partition: 1\n{\"vehicle_id\": 7113, \"speed\": 33, \"timestamp\": \"2025-08-28 18:49:41.270998\"}\nReceived event from partition: 0\n{\"vehicle_id\": 9809, \"speed\": 42, \"timestamp\": \"2025-08-28 18:49:31.203481\"}\nReceived event from partition: 1\n{\"vehicle_id\": 9805, \"speed\": 58, \"timestamp\": \"2025-08-28 18:49:45.036661\"}\nReceived event from partition: 0\n{\"vehicle_id\": 4422, \"speed\": 116, \"timestamp\": \"2025-08-28 18:49:34.545613\"}\nReceived event from partition: 1\n{\"vehicle_id\": 7115, \"speed\": 59, \"timestamp\": \"2025-08-28 18:50:02.239359\"}\nReceived event from partition: 0\n{\"vehicle_id\": 7464, \"speed\": 83, \"timestamp\": \"2025-08-28 18:49:48.567480\"}\nReceived event from partition: 1\n{\"vehicle_id\": 9907, \"speed\": 72, \"timestamp\": \"2025-08-28 18:50:05.620387\"}\nReceived event from partition: 0\n{\"vehicle_id\": 3125, \"speed\": 98, \"timestamp\": \"2025-08-28 18:49:51.929358\"}\nReceived event from partition: 1\n{\"vehicle_id\": 1121, \"speed\": 53, \"timestamp\": \"2025-08-28 18:50:09.048023\"}\nReceived event from partition: 0\n{\"vehicle_id\": 5550, \"speed\": 44, \"timestamp\": \"2025-08-28 18:49:55.383013\"}\nReceived event from partition: 1\n{\"vehicle_id\": 3326, \"speed\": 36, \"timestamp\": \"2025-08-28 18:50:16.487226\"}\nReceived event from partition: 0\n{\"vehicle_id\": 6183, \"speed\": 47, \"timestamp\": \"2025-08-28 18:49:58.753886\"}\nReceived event from partition: 1\n{\"vehicle_id\": 1517, \"speed\": 22, \"timestamp\": \"2025-08-28 18:50:19.982343\"}\nReceived event from partition: 0\n{\"vehicle_id\": 1437, \"speed\": 60, \"timestamp\": \"2025-08-28 18:50:13.163993\"}\nReceived event from partition: 1\n{\"vehicle_id\": 8042, \"speed\": 41, \"timestamp\": \"2025-08-28 18:50:33.763494\"}\nReceived event from partition: 0\n{\"vehicle_id\": 1110, \"speed\": 80, \"timestamp\": \"2025-08-28 18:50:23.454391\"}\nReceived event from partition: 1\n{\"vehicle_id\": 7590, \"speed\": 47, \"timestamp\": \"2025-08-28 18:50:40.535479\"}\nReceived event from partition: 0\n{\"vehicle_id\": 9208, \"speed\": 65, \"timestamp\": \"2025-08-28 18:50:26.864174\"}\nReceived event from partition: 1\n{\"vehicle_id\": 8478, \"speed\": 84, \"timestamp\": \"2025-08-28 18:50:43.956195\"}\nReceived event from partition: 0\n{\"vehicle_id\": 4418, \"speed\": 103, \"timestamp\": \"2025-08-28 18:50:30.393519\"}\nReceived event from partition: 1\n{\"vehicle_id\": 2907, \"speed\": 59, \"timestamp\": \"2025-08-28 18:50:48.349035\"}\nReceived event from partition: 0\n{\"vehicle_id\": 6107, \"speed\": 21, \"timestamp\": \"2025-08-28 18:50:37.174041\"}\nReceived event from partition: 1\n{\"vehicle_id\": 3628, \"speed\": 78, \"timestamp\": \"2025-08-28 18:50:51.689509\"}\nReceived event from partition: 0\n{\"vehicle_id\": 4766, \"speed\": 84, \"timestamp\": \"2025-08-28 18:50:58.578812\"}\nReceived event from partition: 1\n{\"vehicle_id\": 3104, \"speed\": 39, \"timestamp\": \"2025-08-28 18:50:55.158741\"}\nReceived event from partition: 0\n{\"vehicle_id\": 7070, \"speed\": 31, \"timestamp\": \"2025-08-28 18:51:01.920442\"}\nReceived event from partition: 1\n{\"vehicle_id\": 5973, \"speed\": 116, \"timestamp\": \"2025-08-28 18:51:15.517972\"}\nReceived event from partition: 0\n{\"vehicle_id\": 4513, \"speed\": 66, \"timestamp\": \"2025-08-28 18:51:05.301453\"}\nReceived event from partition: 1\n{\"vehicle_id\": 2544, \"speed\": 84, \"timestamp\": \"2025-08-28 18:51:18.928914\"}\nReceived event from partition: 0\n{\"vehicle_id\": 7355, \"speed\": 103, \"timestamp\": \"2025-08-28 18:51:08.672142\"}\nReceived event from partition: 1\n{\"vehicle_id\": 3295, \"speed\": 100, \"timestamp\": \"2025-08-28 18:51:22.342790\"}\nReceived event from partition: 0\n{\"vehicle_id\": 7332, \"speed\": 115, \"timestamp\": \"2025-08-28 18:51:12.154613\"}\nReceived event from partition: 1\n{\"vehicle_id\": 2021, \"speed\": 78, \"timestamp\": \"2025-08-28 18:51:25.782396\"}\nReceived event from partition: 0\n{\"vehicle_id\": 8286, \"speed\": 54, \"timestamp\": \"2025-08-28 18:51:29.148979\"}\nReceived event from partition: 1\n{\"vehicle_id\": 7738, \"speed\": 28, \"timestamp\": \"2025-08-28 18:51:33.055212\"}\nReceived event from partition: 0\n{\"vehicle_id\": 7365, \"speed\": 26, \"timestamp\": \"2025-08-28 18:51:44.915494\"}\nReceived event from partition: 1\n{\"vehicle_id\": 9186, \"speed\": 107, \"timestamp\": \"2025-08-28 18:51:37.125919\"}\nReceived event from partition: 0\n{\"vehicle_id\": 4625, \"speed\": 83, \"timestamp\": \"2025-08-28 18:51:57.023102\"}\nReceived event from partition: 1\n{\"vehicle_id\": 1761, \"speed\": 36, \"timestamp\": \"2025-08-28 18:51:40.998557\"}\nReceived event from partition: 0\n{\"vehicle_id\": 9854, \"speed\": 94, \"timestamp\": \"2025-08-28 18:52:02.150134\"}\nReceived event from partition: 1\n{\"vehicle_id\": 4210, \"speed\": 94, \"timestamp\": \"2025-08-28 18:51:49.020374\"}\nReceived event from partition: 0\n{\"vehicle_id\": 1381, \"speed\": 111, \"timestamp\": \"2025-08-28 18:52:05.722330\"}\nReceived event from partition: 1\n{\"vehicle_id\": 1450, \"speed\": 118, \"timestamp\": \"2025-08-28 18:51:52.963966\"}\nReceived event from partition: 0\n{\"vehicle_id\": 9731, \"speed\": 72, \"timestamp\": \"2025-08-28 18:52:09.589680\"}\nReceived event from partition: 1\n{\"vehicle_id\": 2413, \"speed\": 113, \"timestamp\": \"2025-08-28 18:52:13.160369\"}\nReceived event from partition: 0\n{\"vehicle_id\": 6079, \"speed\": 75, \"timestamp\": \"2025-08-28 18:52:27.957059\"}\nReceived event from partition: 1\n{\"vehicle_id\": 1670, \"speed\": 51, \"timestamp\": \"2025-08-28 18:52:16.733572\"}\nReceived event from partition: 0\n{\"vehicle_id\": 7082, \"speed\": 50, \"timestamp\": \"2025-08-28 18:52:31.702385\"}\nReceived event from partition: 1\n{\"vehicle_id\": 1907, \"speed\": 23, \"timestamp\": \"2025-08-28 18:52:20.411151\"}\nReceived event from partition: 0\n{\"vehicle_id\": 6247, \"speed\": 114, \"timestamp\": \"2025-08-28 18:52:35.473923\"}\nReceived event from partition: 1\n{\"vehicle_id\": 8101, \"speed\": 38, \"timestamp\": \"2025-08-28 18:52:24.060845\"}\nReceived event from partition: 0\n{\"vehicle_id\": 7922, \"speed\": 65, \"timestamp\": \"2025-08-28 18:52:39.196461\"}\nReceived event from partition: 1\n{\"vehicle_id\": 2795, \"speed\": 33, \"timestamp\": \"2025-08-28 18:52:43.034337\"}\nReceived event from partition: 0\n{\"vehicle_id\": 4229, \"speed\": 91, \"timestamp\": \"2025-08-28 18:52:46.958820\"}\nReceived event from partition: 0\n{\"vehicle_id\": 1746, \"speed\": 118, \"timestamp\": \"2025-08-28 18:52:51.061750\"}\nReceived event from partition: 1\n{\"vehicle_id\": 4615, \"speed\": 21, \"timestamp\": \"2025-08-28 18:52:54.794122\"}\nReceived event from partition: 1\n{\"vehicle_id\": 2978, \"speed\": 86, \"timestamp\": \"2025-08-28 18:52:58.512671\"}\nReceived event from partition: 1\n{\"vehicle_id\": 4171, \"speed\": 52, \"timestamp\": \"2025-08-28 18:53:02.108362\"}\nReceived event from partition: 1\n{\"vehicle_id\": 8665, \"speed\": 49, \"timestamp\": \"2025-08-28 18:53:05.755315\"}\nReceived event from partition: 0\n{\"vehicle_id\": 8900, \"speed\": 95, \"timestamp\": \"2025-08-28 18:53:09.415589\"}\nReceived event from partition: 0\n{\"vehicle_id\": 2783, \"speed\": 103, \"timestamp\": \"2025-08-28 18:53:13.039199\"}\nReceived event from partition: 0\n{\"vehicle_id\": 9400, \"speed\": 95, \"timestamp\": \"2025-08-28 18:53:16.682406\"}\nReceived event from partition: 1\n{\"vehicle_id\": 5277, \"speed\": 76, \"timestamp\": \"2025-08-28 18:53:20.430559\"}\nReceived event from partition: 0\n{\"vehicle_id\": 2346, \"speed\": 74, \"timestamp\": \"2025-08-28 18:53:24.184757\"}\nReceived event from partition: 1\n{\"vehicle_id\": 2539, \"speed\": 36, \"timestamp\": \"2025-08-28 18:53:27.998533\"}\nReceived event from partition: 1\n{\"vehicle_id\": 1029, \"speed\": 41, \"timestamp\": \"2025-08-28 18:53:31.794012\"}\nReceived event from partition: 0\n{\"vehicle_id\": 6930, \"speed\": 111, \"timestamp\": \"2025-08-28 18:53:35.643899\"}\nReceived event from partition: 0\n{\"vehicle_id\": 5668, \"speed\": 82, \"timestamp\": \"2025-08-28 18:53:39.231816\"}\nReceived event from partition: 0\n{\"vehicle_id\": 9254, \"speed\": 50, \"timestamp\": \"2025-08-28 18:53:42.976077\"}\nReceived event from partition: 0\n{\"vehicle_id\": 2450, \"speed\": 29, \"timestamp\": \"2025-08-28 18:53:46.633178\"}\nReceived event from partition: 1\n{\"vehicle_id\": 9796, \"speed\": 52, \"timestamp\": \"2025-08-28 18:53:50.445310\"}\nReceived event from partition: 0\n{\"vehicle_id\": 4909, \"speed\": 100, \"timestamp\": \"2025-08-28 18:53:54.077217\"}\nReceived event from partition: 0\n{\"vehicle_id\": 1777, \"speed\": 25, \"timestamp\": \"2025-08-28 18:53:57.686010\"}\nReceived event from partition: 0\n{\"vehicle_id\": 1951, \"speed\": 120, \"timestamp\": \"2025-08-28 18:54:01.417934\"}\nReceived event from partition: 1\n{\"vehicle_id\": 8013, \"speed\": 84, \"timestamp\": \"2025-08-28 18:54:05.314953\"}\nReceived event from partition: 1\n{\"vehicle_id\": 3725, \"speed\": 40, \"timestamp\": \"2025-08-28 18:54:09.196183\"}\n"
     ]
    },
    {
     "output_type": "display_data",
     "data": {
      "text/plain": [
       "com.databricks.backend.common.rpc.CommandCancelledException\n",
       "\tat com.databricks.spark.chauffeur.SequenceExecutionState.$anonfun$cancel$5(SequenceExecutionState.scala:132)\n",
       "\tat scala.Option.getOrElse(Option.scala:189)\n",
       "\tat com.databricks.spark.chauffeur.SequenceExecutionState.$anonfun$cancel$3(SequenceExecutionState.scala:132)\n",
       "\tat com.databricks.spark.chauffeur.SequenceExecutionState.$anonfun$cancel$3$adapted(SequenceExecutionState.scala:129)\n",
       "\tat scala.collection.immutable.Range.foreach(Range.scala:158)\n",
       "\tat com.databricks.spark.chauffeur.SequenceExecutionState.cancel(SequenceExecutionState.scala:129)\n",
       "\tat com.databricks.spark.chauffeur.ExecContextState.cancelRunningSequence(ExecContextState.scala:715)\n",
       "\tat com.databricks.spark.chauffeur.ExecContextState.$anonfun$cancel$1(ExecContextState.scala:435)\n",
       "\tat scala.Option.getOrElse(Option.scala:189)\n",
       "\tat com.databricks.spark.chauffeur.ExecContextState.cancel(ExecContextState.scala:435)\n",
       "\tat com.databricks.spark.chauffeur.ExecutionContextManagerV1.cancelExecution(ExecutionContextManagerV1.scala:473)\n",
       "\tat com.databricks.spark.chauffeur.ChauffeurState.$anonfun$process$1(ChauffeurState.scala:750)\n",
       "\tat com.databricks.logging.UsageLogging.$anonfun$recordOperation$1(UsageLogging.scala:510)\n",
       "\tat com.databricks.logging.UsageLogging.executeThunkAndCaptureResultTags$1(UsageLogging.scala:616)\n",
       "\tat com.databricks.logging.UsageLogging.$anonfun$recordOperationWithResultTags$4(UsageLogging.scala:643)\n",
       "\tat com.databricks.logging.AttributionContextTracing.$anonfun$withAttributionContext$1(AttributionContextTracing.scala:49)\n",
       "\tat com.databricks.logging.AttributionContext$.$anonfun$withValue$1(AttributionContext.scala:293)\n",
       "\tat scala.util.DynamicVariable.withValue(DynamicVariable.scala:62)\n",
       "\tat com.databricks.logging.AttributionContext$.withValue(AttributionContext.scala:289)\n",
       "\tat com.databricks.logging.AttributionContextTracing.withAttributionContext(AttributionContextTracing.scala:47)\n",
       "\tat com.databricks.logging.AttributionContextTracing.withAttributionContext$(AttributionContextTracing.scala:44)\n",
       "\tat com.databricks.spark.chauffeur.ChauffeurState.withAttributionContext(ChauffeurState.scala:84)\n",
       "\tat com.databricks.logging.AttributionContextTracing.withAttributionTags(AttributionContextTracing.scala:96)\n",
       "\tat com.databricks.logging.AttributionContextTracing.withAttributionTags$(AttributionContextTracing.scala:77)\n",
       "\tat com.databricks.spark.chauffeur.ChauffeurState.withAttributionTags(ChauffeurState.scala:84)\n",
       "\tat com.databricks.logging.UsageLogging.recordOperationWithResultTags(UsageLogging.scala:611)\n",
       "\tat com.databricks.logging.UsageLogging.recordOperationWithResultTags$(UsageLogging.scala:519)\n",
       "\tat com.databricks.spark.chauffeur.ChauffeurState.recordOperationWithResultTags(ChauffeurState.scala:84)\n",
       "\tat com.databricks.logging.UsageLogging.recordOperation(UsageLogging.scala:511)\n",
       "\tat com.databricks.logging.UsageLogging.recordOperation$(UsageLogging.scala:475)\n",
       "\tat com.databricks.spark.chauffeur.ChauffeurState.recordOperation(ChauffeurState.scala:84)\n",
       "\tat com.databricks.spark.chauffeur.ChauffeurState.process(ChauffeurState.scala:728)\n",
       "\tat com.databricks.spark.chauffeur.Chauffeur$$anon$1$$anonfun$receive$1.handleDriverRequest$1(Chauffeur.scala:911)\n",
       "\tat com.databricks.spark.chauffeur.Chauffeur$$anon$1$$anonfun$receive$1.$anonfun$applyOrElse$4(Chauffeur.scala:937)\n",
       "\tat com.databricks.logging.UsageLogging.executeThunkAndCaptureResultTags$1(UsageLogging.scala:616)\n",
       "\tat com.databricks.logging.UsageLogging.$anonfun$recordOperationWithResultTags$4(UsageLogging.scala:643)\n",
       "\tat com.databricks.logging.AttributionContextTracing.$anonfun$withAttributionContext$1(AttributionContextTracing.scala:49)\n",
       "\tat com.databricks.logging.AttributionContext$.$anonfun$withValue$1(AttributionContext.scala:293)\n",
       "\tat scala.util.DynamicVariable.withValue(DynamicVariable.scala:62)\n",
       "\tat com.databricks.logging.AttributionContext$.withValue(AttributionContext.scala:289)\n",
       "\tat com.databricks.logging.AttributionContextTracing.withAttributionContext(AttributionContextTracing.scala:47)\n",
       "\tat com.databricks.logging.AttributionContextTracing.withAttributionContext$(AttributionContextTracing.scala:44)\n",
       "\tat com.databricks.rpc.ServerBackend.withAttributionContext(ServerBackend.scala:22)\n",
       "\tat com.databricks.logging.AttributionContextTracing.withAttributionTags(AttributionContextTracing.scala:96)\n",
       "\tat com.databricks.logging.AttributionContextTracing.withAttributionTags$(AttributionContextTracing.scala:77)\n",
       "\tat com.databricks.rpc.ServerBackend.withAttributionTags(ServerBackend.scala:22)\n",
       "\tat com.databricks.logging.UsageLogging.recordOperationWithResultTags(UsageLogging.scala:611)\n",
       "\tat com.databricks.logging.UsageLogging.recordOperationWithResultTags$(UsageLogging.scala:519)\n",
       "\tat com.databricks.rpc.ServerBackend.recordOperationWithResultTags(ServerBackend.scala:22)\n",
       "\tat com.databricks.spark.chauffeur.Chauffeur$$anon$1$$anonfun$receive$1.handleDriverRequestWithUsageLogging$1(Chauffeur.scala:936)\n",
       "\tat com.databricks.spark.chauffeur.Chauffeur$$anon$1$$anonfun$receive$1.applyOrElse(Chauffeur.scala:991)\n",
       "\tat com.databricks.spark.chauffeur.Chauffeur$$anon$1$$anonfun$receive$1.applyOrElse(Chauffeur.scala:776)\n",
       "\tat com.databricks.rpc.ServerBackend.$anonfun$internalReceive0$2(ServerBackend.scala:174)\n",
       "\tat com.databricks.rpc.ServerBackend$$anonfun$commonReceive$1.applyOrElse(ServerBackend.scala:200)\n",
       "\tat com.databricks.rpc.ServerBackend$$anonfun$commonReceive$1.applyOrElse(ServerBackend.scala:200)\n",
       "\tat com.databricks.rpc.ServerBackend.internalReceive0(ServerBackend.scala:171)\n",
       "\tat com.databricks.rpc.ServerBackend.$anonfun$internalReceive$1(ServerBackend.scala:147)\n",
       "\tat com.databricks.logging.UsageLogging.$anonfun$recordOperation$1(UsageLogging.scala:510)\n",
       "\tat com.databricks.logging.UsageLogging.executeThunkAndCaptureResultTags$1(UsageLogging.scala:616)\n",
       "\tat com.databricks.logging.UsageLogging.$anonfun$recordOperationWithResultTags$4(UsageLogging.scala:643)\n",
       "\tat com.databricks.logging.AttributionContextTracing.$anonfun$withAttributionContext$1(AttributionContextTracing.scala:49)\n",
       "\tat com.databricks.logging.AttributionContext$.$anonfun$withValue$1(AttributionContext.scala:293)\n",
       "\tat scala.util.DynamicVariable.withValue(DynamicVariable.scala:62)\n",
       "\tat com.databricks.logging.AttributionContext$.withValue(AttributionContext.scala:289)\n",
       "\tat com.databricks.logging.AttributionContextTracing.withAttributionContext(AttributionContextTracing.scala:47)\n",
       "\tat com.databricks.logging.AttributionContextTracing.withAttributionContext$(AttributionContextTracing.scala:44)\n",
       "\tat com.databricks.rpc.ServerBackend.withAttributionContext(ServerBackend.scala:22)\n",
       "\tat com.databricks.logging.AttributionContextTracing.withAttributionTags(AttributionContextTracing.scala:96)\n",
       "\tat com.databricks.logging.AttributionContextTracing.withAttributionTags$(AttributionContextTracing.scala:77)\n",
       "\tat com.databricks.rpc.ServerBackend.withAttributionTags(ServerBackend.scala:22)\n",
       "\tat com.databricks.logging.UsageLogging.recordOperationWithResultTags(UsageLogging.scala:611)\n",
       "\tat com.databricks.logging.UsageLogging.recordOperationWithResultTags$(UsageLogging.scala:519)\n",
       "\tat com.databricks.rpc.ServerBackend.recordOperationWithResultTags(ServerBackend.scala:22)\n",
       "\tat com.databricks.logging.UsageLogging.recordOperation(UsageLogging.scala:511)\n",
       "\tat com.databricks.logging.UsageLogging.recordOperation$(UsageLogging.scala:475)\n",
       "\tat com.databricks.rpc.ServerBackend.recordOperation(ServerBackend.scala:22)\n",
       "\tat com.databricks.rpc.ServerBackend.internalReceive(ServerBackend.scala:146)\n",
       "\tat com.databricks.rpc.JettyServer$RequestManager.handleRPC(JettyServer.scala:1033)\n",
       "\tat com.databricks.rpc.JettyServer$RequestManager.handleRequestAndRespond(JettyServer.scala:953)\n",
       "\tat com.databricks.rpc.JettyServer$RequestManager.$anonfun$handleHttp$5(JettyServer.scala:548)\n",
       "\tat com.databricks.rpc.JettyServer$RequestManager.$anonfun$handleHttp$5$adapted(JettyServer.scala:513)\n",
       "\tat com.databricks.logging.activity.ActivityContextFactory$.$anonfun$withActivityInternal$13(ActivityContextFactory.scala:831)\n",
       "\tat com.databricks.logging.AttributionContextTracing.$anonfun$withAttributionContext$1(AttributionContextTracing.scala:49)\n",
       "\tat com.databricks.logging.AttributionContext$.$anonfun$withValue$1(AttributionContext.scala:293)\n",
       "\tat scala.util.DynamicVariable.withValue(DynamicVariable.scala:62)\n",
       "\tat com.databricks.logging.AttributionContext$.withValue(AttributionContext.scala:289)\n",
       "\tat com.databricks.logging.AttributionContextTracing.withAttributionContext(AttributionContextTracing.scala:47)\n",
       "\tat com.databricks.logging.AttributionContextTracing.withAttributionContext$(AttributionContextTracing.scala:44)\n",
       "\tat com.databricks.logging.activity.ActivityContextFactory$.withAttributionContext(ActivityContextFactory.scala:53)\n",
       "\tat com.databricks.logging.activity.ActivityContextFactory$.$anonfun$withActivityInternal$3(ActivityContextFactory.scala:831)\n",
       "\tat com.databricks.context.integrity.IntegrityCheckContext$ThreadLocalStorage$.withValue(IntegrityCheckContext.scala:73)\n",
       "\tat com.databricks.logging.activity.ActivityContextFactory$.withActivityInternal(ActivityContextFactory.scala:794)\n",
       "\tat com.databricks.logging.activity.ActivityContextFactory$.withActivityInternal(ActivityContextFactory.scala:776)\n",
       "\tat com.databricks.logging.activity.ActivityContextFactory$.$anonfun$withServiceRequestActivity$15(ActivityContextFactory.scala:285)\n",
       "\tat com.databricks.logging.AttributionContextTracing.$anonfun$withAttributionContext$1(AttributionContextTracing.scala:49)\n",
       "\tat com.databricks.logging.AttributionContext$.$anonfun$withValue$1(AttributionContext.scala:293)\n",
       "\tat scala.util.DynamicVariable.withValue(DynamicVariable.scala:62)\n",
       "\tat com.databricks.logging.AttributionContext$.withValue(AttributionContext.scala:289)\n",
       "\tat com.databricks.logging.AttributionContextTracing.withAttributionContext(AttributionContextTracing.scala:47)\n",
       "\tat com.databricks.logging.AttributionContextTracing.withAttributionContext$(AttributionContextTracing.scala:44)\n",
       "\tat com.databricks.logging.activity.ActivityContextFactory$.withAttributionContext(ActivityContextFactory.scala:53)\n",
       "\tat com.databricks.logging.activity.ActivityContextFactory$.withServiceRequestActivity(ActivityContextFactory.scala:285)\n",
       "\tat com.databricks.rpc.JettyServer$RequestManager.handleHttp(JettyServer.scala:513)\n",
       "\tat com.databricks.rpc.JettyServer$RequestManager.doPost(JettyServer.scala:408)\n",
       "\tat javax.servlet.http.HttpServlet.service(HttpServlet.java:665)\n",
       "\tat com.databricks.rpc.HttpServletWithPatch.service(HttpServletWithPatch.scala:33)\n",
       "\tat javax.servlet.http.HttpServlet.service(HttpServlet.java:750)\n",
       "\tat org.eclipse.jetty.servlet.ServletHolder.handle(ServletHolder.java:799)\n",
       "\tat org.eclipse.jetty.servlet.ServletHandler.doHandle(ServletHandler.java:554)\n",
       "\tat org.eclipse.jetty.server.handler.ScopedHandler.nextScope(ScopedHandler.java:190)\n",
       "\tat org.eclipse.jetty.servlet.ServletHandler.doScope(ServletHandler.java:505)\n",
       "\tat org.eclipse.jetty.server.handler.ScopedHandler.handle(ScopedHandler.java:141)\n",
       "\tat org.eclipse.jetty.server.handler.HandlerWrapper.handle(HandlerWrapper.java:127)\n",
       "\tat org.eclipse.jetty.server.Server.handle(Server.java:516)\n",
       "\tat org.eclipse.jetty.server.HttpChannel.lambda$handle$1(HttpChannel.java:487)\n",
       "\tat org.eclipse.jetty.server.HttpChannel.dispatch(HttpChannel.java:732)\n",
       "\tat org.eclipse.jetty.server.HttpChannel.handle(HttpChannel.java:479)\n",
       "\tat org.eclipse.jetty.server.HttpConnection.onFillable(HttpConnection.java:277)\n",
       "\tat org.eclipse.jetty.io.AbstractConnection$ReadCallback.succeeded(AbstractConnection.java:311)\n",
       "\tat org.eclipse.jetty.io.FillInterest.fillable(FillInterest.java:105)\n",
       "\tat org.eclipse.jetty.io.ssl.SslConnection$DecryptedEndPoint.onFillable(SslConnection.java:555)\n",
       "\tat org.eclipse.jetty.io.ssl.SslConnection.onFillable(SslConnection.java:410)\n",
       "\tat org.eclipse.jetty.io.ssl.SslConnection$2.succeeded(SslConnection.java:164)\n",
       "\tat org.eclipse.jetty.io.FillInterest.fillable(FillInterest.java:105)\n",
       "\tat org.eclipse.jetty.io.ChannelEndPoint$1.run(ChannelEndPoint.java:104)\n",
       "\tat org.eclipse.jetty.util.thread.strategy.EatWhatYouKill.runTask(EatWhatYouKill.java:338)\n",
       "\tat org.eclipse.jetty.util.thread.strategy.EatWhatYouKill.doProduce(EatWhatYouKill.java:315)\n",
       "\tat org.eclipse.jetty.util.thread.strategy.EatWhatYouKill.tryProduce(EatWhatYouKill.java:173)\n",
       "\tat org.eclipse.jetty.util.thread.strategy.EatWhatYouKill.run(EatWhatYouKill.java:131)\n",
       "\tat org.eclipse.jetty.util.thread.ReservedThreadExecutor$ReservedThread.run(ReservedThreadExecutor.java:409)\n",
       "\tat com.databricks.rpc.InstrumentedQueuedThreadPool$$anon$1.$anonfun$run$2(InstrumentedQueuedThreadPool.scala:110)\n",
       "\tat scala.runtime.java8.JFunction0$mcV$sp.apply(JFunction0$mcV$sp.java:23)\n",
       "\tat com.databricks.logging.AttributionContextTracing.$anonfun$withAttributionContext$1(AttributionContextTracing.scala:49)\n",
       "\tat com.databricks.logging.AttributionContext$.$anonfun$withValue$1(AttributionContext.scala:293)\n",
       "\tat scala.util.DynamicVariable.withValue(DynamicVariable.scala:62)\n",
       "\tat com.databricks.logging.AttributionContext$.withValue(AttributionContext.scala:289)\n",
       "\tat com.databricks.logging.AttributionContextTracing.withAttributionContext(AttributionContextTracing.scala:47)\n",
       "\tat com.databricks.logging.AttributionContextTracing.withAttributionContext$(AttributionContextTracing.scala:44)\n",
       "\tat com.databricks.rpc.InstrumentedQueuedThreadPool.withAttributionContext(InstrumentedQueuedThreadPool.scala:45)\n",
       "\tat com.databricks.rpc.InstrumentedQueuedThreadPool$$anon$1.$anonfun$run$1(InstrumentedQueuedThreadPool.scala:110)\n",
       "\tat scala.runtime.java8.JFunction0$mcV$sp.apply(JFunction0$mcV$sp.java:23)\n",
       "\tat com.databricks.instrumentation.QueuedThreadPoolInstrumenter.trackActiveThreads(QueuedThreadPoolInstrumenter.scala:132)\n",
       "\tat com.databricks.instrumentation.QueuedThreadPoolInstrumenter.trackActiveThreads$(QueuedThreadPoolInstrumenter.scala:129)\n",
       "\tat com.databricks.rpc.InstrumentedQueuedThreadPool.trackActiveThreads(InstrumentedQueuedThreadPool.scala:45)\n",
       "\tat com.databricks.rpc.InstrumentedQueuedThreadPool$$anon$1.run(InstrumentedQueuedThreadPool.scala:92)\n",
       "\tat org.eclipse.jetty.util.thread.QueuedThreadPool.runJob(QueuedThreadPool.java:883)\n",
       "\tat org.eclipse.jetty.util.thread.QueuedThreadPool$Runner.run(QueuedThreadPool.java:1034)\n",
       "\tat java.base/java.lang.Thread.run(Thread.java:840)"
      ]
     },
     "metadata": {
      "application/vnd.databricks.v1+output": {
       "addedWidgets": {},
       "arguments": {},
       "datasetInfos": [],
       "jupyterProps": null,
       "metadata": {
        "errorSummary": "Cancelled"
       },
       "removedWidgets": [],
       "sqlProps": null,
       "stackFrames": [
        "com.databricks.backend.common.rpc.CommandCancelledException",
        "\tat com.databricks.spark.chauffeur.SequenceExecutionState.$anonfun$cancel$5(SequenceExecutionState.scala:132)",
        "\tat scala.Option.getOrElse(Option.scala:189)",
        "\tat com.databricks.spark.chauffeur.SequenceExecutionState.$anonfun$cancel$3(SequenceExecutionState.scala:132)",
        "\tat com.databricks.spark.chauffeur.SequenceExecutionState.$anonfun$cancel$3$adapted(SequenceExecutionState.scala:129)",
        "\tat scala.collection.immutable.Range.foreach(Range.scala:158)",
        "\tat com.databricks.spark.chauffeur.SequenceExecutionState.cancel(SequenceExecutionState.scala:129)",
        "\tat com.databricks.spark.chauffeur.ExecContextState.cancelRunningSequence(ExecContextState.scala:715)",
        "\tat com.databricks.spark.chauffeur.ExecContextState.$anonfun$cancel$1(ExecContextState.scala:435)",
        "\tat scala.Option.getOrElse(Option.scala:189)",
        "\tat com.databricks.spark.chauffeur.ExecContextState.cancel(ExecContextState.scala:435)",
        "\tat com.databricks.spark.chauffeur.ExecutionContextManagerV1.cancelExecution(ExecutionContextManagerV1.scala:473)",
        "\tat com.databricks.spark.chauffeur.ChauffeurState.$anonfun$process$1(ChauffeurState.scala:750)",
        "\tat com.databricks.logging.UsageLogging.$anonfun$recordOperation$1(UsageLogging.scala:510)",
        "\tat com.databricks.logging.UsageLogging.executeThunkAndCaptureResultTags$1(UsageLogging.scala:616)",
        "\tat com.databricks.logging.UsageLogging.$anonfun$recordOperationWithResultTags$4(UsageLogging.scala:643)",
        "\tat com.databricks.logging.AttributionContextTracing.$anonfun$withAttributionContext$1(AttributionContextTracing.scala:49)",
        "\tat com.databricks.logging.AttributionContext$.$anonfun$withValue$1(AttributionContext.scala:293)",
        "\tat scala.util.DynamicVariable.withValue(DynamicVariable.scala:62)",
        "\tat com.databricks.logging.AttributionContext$.withValue(AttributionContext.scala:289)",
        "\tat com.databricks.logging.AttributionContextTracing.withAttributionContext(AttributionContextTracing.scala:47)",
        "\tat com.databricks.logging.AttributionContextTracing.withAttributionContext$(AttributionContextTracing.scala:44)",
        "\tat com.databricks.spark.chauffeur.ChauffeurState.withAttributionContext(ChauffeurState.scala:84)",
        "\tat com.databricks.logging.AttributionContextTracing.withAttributionTags(AttributionContextTracing.scala:96)",
        "\tat com.databricks.logging.AttributionContextTracing.withAttributionTags$(AttributionContextTracing.scala:77)",
        "\tat com.databricks.spark.chauffeur.ChauffeurState.withAttributionTags(ChauffeurState.scala:84)",
        "\tat com.databricks.logging.UsageLogging.recordOperationWithResultTags(UsageLogging.scala:611)",
        "\tat com.databricks.logging.UsageLogging.recordOperationWithResultTags$(UsageLogging.scala:519)",
        "\tat com.databricks.spark.chauffeur.ChauffeurState.recordOperationWithResultTags(ChauffeurState.scala:84)",
        "\tat com.databricks.logging.UsageLogging.recordOperation(UsageLogging.scala:511)",
        "\tat com.databricks.logging.UsageLogging.recordOperation$(UsageLogging.scala:475)",
        "\tat com.databricks.spark.chauffeur.ChauffeurState.recordOperation(ChauffeurState.scala:84)",
        "\tat com.databricks.spark.chauffeur.ChauffeurState.process(ChauffeurState.scala:728)",
        "\tat com.databricks.spark.chauffeur.Chauffeur$$anon$1$$anonfun$receive$1.handleDriverRequest$1(Chauffeur.scala:911)",
        "\tat com.databricks.spark.chauffeur.Chauffeur$$anon$1$$anonfun$receive$1.$anonfun$applyOrElse$4(Chauffeur.scala:937)",
        "\tat com.databricks.logging.UsageLogging.executeThunkAndCaptureResultTags$1(UsageLogging.scala:616)",
        "\tat com.databricks.logging.UsageLogging.$anonfun$recordOperationWithResultTags$4(UsageLogging.scala:643)",
        "\tat com.databricks.logging.AttributionContextTracing.$anonfun$withAttributionContext$1(AttributionContextTracing.scala:49)",
        "\tat com.databricks.logging.AttributionContext$.$anonfun$withValue$1(AttributionContext.scala:293)",
        "\tat scala.util.DynamicVariable.withValue(DynamicVariable.scala:62)",
        "\tat com.databricks.logging.AttributionContext$.withValue(AttributionContext.scala:289)",
        "\tat com.databricks.logging.AttributionContextTracing.withAttributionContext(AttributionContextTracing.scala:47)",
        "\tat com.databricks.logging.AttributionContextTracing.withAttributionContext$(AttributionContextTracing.scala:44)",
        "\tat com.databricks.rpc.ServerBackend.withAttributionContext(ServerBackend.scala:22)",
        "\tat com.databricks.logging.AttributionContextTracing.withAttributionTags(AttributionContextTracing.scala:96)",
        "\tat com.databricks.logging.AttributionContextTracing.withAttributionTags$(AttributionContextTracing.scala:77)",
        "\tat com.databricks.rpc.ServerBackend.withAttributionTags(ServerBackend.scala:22)",
        "\tat com.databricks.logging.UsageLogging.recordOperationWithResultTags(UsageLogging.scala:611)",
        "\tat com.databricks.logging.UsageLogging.recordOperationWithResultTags$(UsageLogging.scala:519)",
        "\tat com.databricks.rpc.ServerBackend.recordOperationWithResultTags(ServerBackend.scala:22)",
        "\tat com.databricks.spark.chauffeur.Chauffeur$$anon$1$$anonfun$receive$1.handleDriverRequestWithUsageLogging$1(Chauffeur.scala:936)",
        "\tat com.databricks.spark.chauffeur.Chauffeur$$anon$1$$anonfun$receive$1.applyOrElse(Chauffeur.scala:991)",
        "\tat com.databricks.spark.chauffeur.Chauffeur$$anon$1$$anonfun$receive$1.applyOrElse(Chauffeur.scala:776)",
        "\tat com.databricks.rpc.ServerBackend.$anonfun$internalReceive0$2(ServerBackend.scala:174)",
        "\tat com.databricks.rpc.ServerBackend$$anonfun$commonReceive$1.applyOrElse(ServerBackend.scala:200)",
        "\tat com.databricks.rpc.ServerBackend$$anonfun$commonReceive$1.applyOrElse(ServerBackend.scala:200)",
        "\tat com.databricks.rpc.ServerBackend.internalReceive0(ServerBackend.scala:171)",
        "\tat com.databricks.rpc.ServerBackend.$anonfun$internalReceive$1(ServerBackend.scala:147)",
        "\tat com.databricks.logging.UsageLogging.$anonfun$recordOperation$1(UsageLogging.scala:510)",
        "\tat com.databricks.logging.UsageLogging.executeThunkAndCaptureResultTags$1(UsageLogging.scala:616)",
        "\tat com.databricks.logging.UsageLogging.$anonfun$recordOperationWithResultTags$4(UsageLogging.scala:643)",
        "\tat com.databricks.logging.AttributionContextTracing.$anonfun$withAttributionContext$1(AttributionContextTracing.scala:49)",
        "\tat com.databricks.logging.AttributionContext$.$anonfun$withValue$1(AttributionContext.scala:293)",
        "\tat scala.util.DynamicVariable.withValue(DynamicVariable.scala:62)",
        "\tat com.databricks.logging.AttributionContext$.withValue(AttributionContext.scala:289)",
        "\tat com.databricks.logging.AttributionContextTracing.withAttributionContext(AttributionContextTracing.scala:47)",
        "\tat com.databricks.logging.AttributionContextTracing.withAttributionContext$(AttributionContextTracing.scala:44)",
        "\tat com.databricks.rpc.ServerBackend.withAttributionContext(ServerBackend.scala:22)",
        "\tat com.databricks.logging.AttributionContextTracing.withAttributionTags(AttributionContextTracing.scala:96)",
        "\tat com.databricks.logging.AttributionContextTracing.withAttributionTags$(AttributionContextTracing.scala:77)",
        "\tat com.databricks.rpc.ServerBackend.withAttributionTags(ServerBackend.scala:22)",
        "\tat com.databricks.logging.UsageLogging.recordOperationWithResultTags(UsageLogging.scala:611)",
        "\tat com.databricks.logging.UsageLogging.recordOperationWithResultTags$(UsageLogging.scala:519)",
        "\tat com.databricks.rpc.ServerBackend.recordOperationWithResultTags(ServerBackend.scala:22)",
        "\tat com.databricks.logging.UsageLogging.recordOperation(UsageLogging.scala:511)",
        "\tat com.databricks.logging.UsageLogging.recordOperation$(UsageLogging.scala:475)",
        "\tat com.databricks.rpc.ServerBackend.recordOperation(ServerBackend.scala:22)",
        "\tat com.databricks.rpc.ServerBackend.internalReceive(ServerBackend.scala:146)",
        "\tat com.databricks.rpc.JettyServer$RequestManager.handleRPC(JettyServer.scala:1033)",
        "\tat com.databricks.rpc.JettyServer$RequestManager.handleRequestAndRespond(JettyServer.scala:953)",
        "\tat com.databricks.rpc.JettyServer$RequestManager.$anonfun$handleHttp$5(JettyServer.scala:548)",
        "\tat com.databricks.rpc.JettyServer$RequestManager.$anonfun$handleHttp$5$adapted(JettyServer.scala:513)",
        "\tat com.databricks.logging.activity.ActivityContextFactory$.$anonfun$withActivityInternal$13(ActivityContextFactory.scala:831)",
        "\tat com.databricks.logging.AttributionContextTracing.$anonfun$withAttributionContext$1(AttributionContextTracing.scala:49)",
        "\tat com.databricks.logging.AttributionContext$.$anonfun$withValue$1(AttributionContext.scala:293)",
        "\tat scala.util.DynamicVariable.withValue(DynamicVariable.scala:62)",
        "\tat com.databricks.logging.AttributionContext$.withValue(AttributionContext.scala:289)",
        "\tat com.databricks.logging.AttributionContextTracing.withAttributionContext(AttributionContextTracing.scala:47)",
        "\tat com.databricks.logging.AttributionContextTracing.withAttributionContext$(AttributionContextTracing.scala:44)",
        "\tat com.databricks.logging.activity.ActivityContextFactory$.withAttributionContext(ActivityContextFactory.scala:53)",
        "\tat com.databricks.logging.activity.ActivityContextFactory$.$anonfun$withActivityInternal$3(ActivityContextFactory.scala:831)",
        "\tat com.databricks.context.integrity.IntegrityCheckContext$ThreadLocalStorage$.withValue(IntegrityCheckContext.scala:73)",
        "\tat com.databricks.logging.activity.ActivityContextFactory$.withActivityInternal(ActivityContextFactory.scala:794)",
        "\tat com.databricks.logging.activity.ActivityContextFactory$.withActivityInternal(ActivityContextFactory.scala:776)",
        "\tat com.databricks.logging.activity.ActivityContextFactory$.$anonfun$withServiceRequestActivity$15(ActivityContextFactory.scala:285)",
        "\tat com.databricks.logging.AttributionContextTracing.$anonfun$withAttributionContext$1(AttributionContextTracing.scala:49)",
        "\tat com.databricks.logging.AttributionContext$.$anonfun$withValue$1(AttributionContext.scala:293)",
        "\tat scala.util.DynamicVariable.withValue(DynamicVariable.scala:62)",
        "\tat com.databricks.logging.AttributionContext$.withValue(AttributionContext.scala:289)",
        "\tat com.databricks.logging.AttributionContextTracing.withAttributionContext(AttributionContextTracing.scala:47)",
        "\tat com.databricks.logging.AttributionContextTracing.withAttributionContext$(AttributionContextTracing.scala:44)",
        "\tat com.databricks.logging.activity.ActivityContextFactory$.withAttributionContext(ActivityContextFactory.scala:53)",
        "\tat com.databricks.logging.activity.ActivityContextFactory$.withServiceRequestActivity(ActivityContextFactory.scala:285)",
        "\tat com.databricks.rpc.JettyServer$RequestManager.handleHttp(JettyServer.scala:513)",
        "\tat com.databricks.rpc.JettyServer$RequestManager.doPost(JettyServer.scala:408)",
        "\tat javax.servlet.http.HttpServlet.service(HttpServlet.java:665)",
        "\tat com.databricks.rpc.HttpServletWithPatch.service(HttpServletWithPatch.scala:33)",
        "\tat javax.servlet.http.HttpServlet.service(HttpServlet.java:750)",
        "\tat org.eclipse.jetty.servlet.ServletHolder.handle(ServletHolder.java:799)",
        "\tat org.eclipse.jetty.servlet.ServletHandler.doHandle(ServletHandler.java:554)",
        "\tat org.eclipse.jetty.server.handler.ScopedHandler.nextScope(ScopedHandler.java:190)",
        "\tat org.eclipse.jetty.servlet.ServletHandler.doScope(ServletHandler.java:505)",
        "\tat org.eclipse.jetty.server.handler.ScopedHandler.handle(ScopedHandler.java:141)",
        "\tat org.eclipse.jetty.server.handler.HandlerWrapper.handle(HandlerWrapper.java:127)",
        "\tat org.eclipse.jetty.server.Server.handle(Server.java:516)",
        "\tat org.eclipse.jetty.server.HttpChannel.lambda$handle$1(HttpChannel.java:487)",
        "\tat org.eclipse.jetty.server.HttpChannel.dispatch(HttpChannel.java:732)",
        "\tat org.eclipse.jetty.server.HttpChannel.handle(HttpChannel.java:479)",
        "\tat org.eclipse.jetty.server.HttpConnection.onFillable(HttpConnection.java:277)",
        "\tat org.eclipse.jetty.io.AbstractConnection$ReadCallback.succeeded(AbstractConnection.java:311)",
        "\tat org.eclipse.jetty.io.FillInterest.fillable(FillInterest.java:105)",
        "\tat org.eclipse.jetty.io.ssl.SslConnection$DecryptedEndPoint.onFillable(SslConnection.java:555)",
        "\tat org.eclipse.jetty.io.ssl.SslConnection.onFillable(SslConnection.java:410)",
        "\tat org.eclipse.jetty.io.ssl.SslConnection$2.succeeded(SslConnection.java:164)",
        "\tat org.eclipse.jetty.io.FillInterest.fillable(FillInterest.java:105)",
        "\tat org.eclipse.jetty.io.ChannelEndPoint$1.run(ChannelEndPoint.java:104)",
        "\tat org.eclipse.jetty.util.thread.strategy.EatWhatYouKill.runTask(EatWhatYouKill.java:338)",
        "\tat org.eclipse.jetty.util.thread.strategy.EatWhatYouKill.doProduce(EatWhatYouKill.java:315)",
        "\tat org.eclipse.jetty.util.thread.strategy.EatWhatYouKill.tryProduce(EatWhatYouKill.java:173)",
        "\tat org.eclipse.jetty.util.thread.strategy.EatWhatYouKill.run(EatWhatYouKill.java:131)",
        "\tat org.eclipse.jetty.util.thread.ReservedThreadExecutor$ReservedThread.run(ReservedThreadExecutor.java:409)",
        "\tat com.databricks.rpc.InstrumentedQueuedThreadPool$$anon$1.$anonfun$run$2(InstrumentedQueuedThreadPool.scala:110)",
        "\tat scala.runtime.java8.JFunction0$mcV$sp.apply(JFunction0$mcV$sp.java:23)",
        "\tat com.databricks.logging.AttributionContextTracing.$anonfun$withAttributionContext$1(AttributionContextTracing.scala:49)",
        "\tat com.databricks.logging.AttributionContext$.$anonfun$withValue$1(AttributionContext.scala:293)",
        "\tat scala.util.DynamicVariable.withValue(DynamicVariable.scala:62)",
        "\tat com.databricks.logging.AttributionContext$.withValue(AttributionContext.scala:289)",
        "\tat com.databricks.logging.AttributionContextTracing.withAttributionContext(AttributionContextTracing.scala:47)",
        "\tat com.databricks.logging.AttributionContextTracing.withAttributionContext$(AttributionContextTracing.scala:44)",
        "\tat com.databricks.rpc.InstrumentedQueuedThreadPool.withAttributionContext(InstrumentedQueuedThreadPool.scala:45)",
        "\tat com.databricks.rpc.InstrumentedQueuedThreadPool$$anon$1.$anonfun$run$1(InstrumentedQueuedThreadPool.scala:110)",
        "\tat scala.runtime.java8.JFunction0$mcV$sp.apply(JFunction0$mcV$sp.java:23)",
        "\tat com.databricks.instrumentation.QueuedThreadPoolInstrumenter.trackActiveThreads(QueuedThreadPoolInstrumenter.scala:132)",
        "\tat com.databricks.instrumentation.QueuedThreadPoolInstrumenter.trackActiveThreads$(QueuedThreadPoolInstrumenter.scala:129)",
        "\tat com.databricks.rpc.InstrumentedQueuedThreadPool.trackActiveThreads(InstrumentedQueuedThreadPool.scala:45)",
        "\tat com.databricks.rpc.InstrumentedQueuedThreadPool$$anon$1.run(InstrumentedQueuedThreadPool.scala:92)",
        "\tat org.eclipse.jetty.util.thread.QueuedThreadPool.runJob(QueuedThreadPool.java:883)",
        "\tat org.eclipse.jetty.util.thread.QueuedThreadPool$Runner.run(QueuedThreadPool.java:1034)",
        "\tat java.base/java.lang.Thread.run(Thread.java:840)"
       ],
       "type": "baseError"
      }
     },
     "output_type": "display_data"
    }
   ],
   "source": [
    "from azure.eventhub import EventHubConsumerClient\n",
    "\n",
    "CONNECTION_STR = \"Endpoint=sb://traffic-demo.servicebus.windows.net/;SharedAccessKeyName=traffic-policy;SharedAccessKey=PU8yH9p9XVMvnU5odDnUWCxddYrGUbkYu+AEhJpOVMI=;EntityPath=traffic-iot\"\n",
    "CONSUMER_GROUP = \"traffic-app\"  # or $Default consumer group\n",
    "EVENTHUB_NAME = \"traffic-iot\"\n",
    "\n",
    "def on_event(partition_context, event):\n",
    "    print(f\"Received event from partition: {partition_context.partition_id}\")\n",
    "    print(event.body_as_str())\n",
    "    partition_context.update_checkpoint(event)\n",
    "\n",
    "client = EventHubConsumerClient.from_connection_string(\n",
    "    conn_str=CONNECTION_STR,\n",
    "    consumer_group=CONSUMER_GROUP,\n",
    "    eventhub_name=EVENTHUB_NAME\n",
    ")\n",
    "\n",
    "with client:\n",
    "    client.receive(\n",
    "        on_event=on_event,\n",
    "        starting_position=\"-1\",  # \"-1\" = read from beginning of stream\n",
    "    )\n"
   ]
  },
  {
   "cell_type": "code",
   "execution_count": 0,
   "metadata": {
    "application/vnd.databricks.v1+cell": {
     "cellMetadata": {
      "byteLimit": 2048000,
      "rowLimit": 10000
     },
     "inputWidgets": {},
     "nuid": "744dc38c-13c0-4fcb-afe5-f6ec52ca9d1c",
     "showTitle": false,
     "tableResultSettingsMap": {},
     "title": ""
    }
   },
   "outputs": [],
   "source": [
    "from pyspark.sql.types import StructType, StringType\n",
    "from pyspark.sql.functions import col, from_json, coalesce, to_timestamp\n",
    "\n",
    "# ---- 1) Schema: keep everything as STRING, cast later (avoids nulls on type mismatch)\n",
    "schema = (StructType()\n",
    "          .add(\"vehicle_id\", StringType())\n",
    "          .add(\"speed\", StringType())\n",
    "          .add(\"timestamp\", StringType())     # some producers use \"timestamp\"\n",
    "          .add(\"event_time\", StringType()))   # others use \"event_time\"\n",
    "\n",
    "# ---- 2) Secure your connection string (example uses a placeholder)\n",
    "# connectionString = dbutils.secrets.get(\"scope\", \"eh-conn\")   # recommended\n",
    "connectionString =\"Endpoint=sb://traffic-demo.servicebus.windows.net/;SharedAccessKeyName=traffic-policy;SharedAccessKey=PU8yH9p9XVMvnU5odDnUWCxddYrGUbkYu+AEhJpOVMI=;EntityPath=traffic-iot\"\n",
    "\n",
    "eh_conf = {\n",
    "    \"eventhubs.connectionString\": sc._jvm.org.apache.spark.eventhubs.EventHubsUtils.encrypt(connectionString),\n",
    "    \"eventhubs.consumerGroup\": \"$Default\",\n",
    "    # Start from the earliest retained events\n",
    "    \"eventhubs.startingPosition\": \"\"\"{\n",
    "      \"offset\": \"-1\",\n",
    "      \"seqNo\": -1,\n",
    "      \"enqueuedTime\": null,\n",
    "      \"isInclusive\": true\n",
    "    }\"\"\"\n",
    "}\n",
    "\n",
    "# ---- 3) Read Event Hubs stream\n",
    "raw_stream = (spark.readStream\n",
    "              .format(\"eventhubs\")\n",
    "              .options(**eh_conf)\n",
    "              .load())\n",
    "\n",
    "# ---- 4) Parse JSON safely\n",
    "parsed = raw_stream.select(\n",
    "    col(\"enqueuedTime\").alias(\"ingest_time\"),\n",
    "    from_json(col(\"body\").cast(\"string\"), schema).alias(\"data\")\n",
    ")\n",
    "\n",
    "iot_df = (parsed\n",
    "    .select(\n",
    "        col(\"data.vehicle_id\").cast(\"int\").alias(\"vehicle_id\"),\n",
    "        col(\"data.speed\").cast(\"int\").alias(\"speed\"),\n",
    "        # prefer payload time; fall back to Event Hubs enqueued time\n",
    "        coalesce(col(\"data.timestamp\"), col(\"data.event_time\")).alias(\"ts_raw\"),\n",
    "        col(\"ingest_time\")\n",
    "    )\n",
    "    .withColumn(\n",
    "        \"event_time\",\n",
    "        coalesce(\n",
    "            to_timestamp(col(\"ts_raw\")),                     # try default parsing\n",
    "            col(\"ingest_time\").cast(\"timestamp\")             # fallback\n",
    "        )\n",
    "    )\n",
    "    .drop(\"ts_raw\")\n",
    ")\n",
    "\n",
    "# ---- 5) Write to Delta (BRONZE) with a dedicated checkpoint\n",
    "delta_query = (iot_df.writeStream\n",
    "    .format(\"delta\")\n",
    "    .outputMode(\"append\")\n",
    "    .option(\"checkpointLocation\", \"/mnt/bronze/_checkpoint_iot\")\n",
    "    .option(\"mergeSchema\", \"true\")    # allow new/changed columns\n",
    "    .start(\"/mnt/bronze/iotdata\"))\n",
    "\n",
    "# ---- 6) OPTIONAL: Also stream to console so you can verify rows immediately\n",
    "debug_query = (iot_df.writeStream\n",
    "    .format(\"console\")\n",
    "    .option(\"truncate\", False)\n",
    "    .option(\"numRows\", 20)\n",
    "    .start())\n"
   ]
  },
  {
   "cell_type": "code",
   "execution_count": 0,
   "metadata": {
    "application/vnd.databricks.v1+cell": {
     "cellMetadata": {
      "byteLimit": 2048000,
      "rowLimit": 10000
     },
     "inputWidgets": {},
     "nuid": "b177de8f-f51e-43b9-a7cc-a710e9708901",
     "showTitle": false,
     "tableResultSettingsMap": {},
     "title": ""
    }
   },
   "outputs": [],
   "source": [
    "from pyspark.sql.types import StructType, StructField, StringType, IntegerType\n",
    "from pyspark.sql.functions import from_json, col, to_timestamp, current_timestamp\n",
    "\n",
    "# 1) Schema\n",
    "schema = StructType([\n",
    "    StructField(\"vehicle_id\", IntegerType(), True),\n",
    "    StructField(\"speed\", IntegerType(), True),\n",
    "    StructField(\"timestamp\", StringType(), True)  # raw string\n",
    "])\n",
    "\n",
    "# 2) Parse + Add event_time\n",
    "parsed_df = (raw_stream\n",
    "    .select(from_json(col(\"body\").cast(\"string\"), schema).alias(\"data\"))\n",
    "    .select(\"data.*\")\n",
    "    .withColumn(\"event_time\", to_timestamp(\"timestamp\"))  # convert to timestamp\n",
    "    .withColumn(\"ingest_time\", current_timestamp())       # optional lineage\n",
    ")\n",
    "\n",
    "# 3) Paths\n",
    "silver_path = \"dbfs:/mnt/silver/iotdata\"\n",
    "checkpoint_path = \"dbfs:/mnt/silver/_checkpoint_iot\"\n",
    "\n",
    "# 4) Write to Silver (Delta Lake)\n",
    "delta_query = (parsed_df.writeStream\n",
    "    .format(\"delta\")\n",
    "    .outputMode(\"append\")\n",
    "    .option(\"checkpointLocation\", checkpoint_path)\n",
    "    .option(\"mergeSchema\", \"true\")   # allow schema evolution\n",
    "    .start(silver_path)\n",
    ")\n",
    "\n",
    "# 5) Debug Console Sink (for monitoring)\n",
    "console_query = (parsed_df.writeStream\n",
    "    .format(\"console\")\n",
    "    .outputMode(\"append\")\n",
    "    .option(\"truncate\", False)\n",
    "    .start()\n",
    ")\n"
   ]
  },
  {
   "cell_type": "code",
   "execution_count": 0,
   "metadata": {
    "application/vnd.databricks.v1+cell": {
     "cellMetadata": {
      "byteLimit": 2048000,
      "rowLimit": 10000
     },
     "inputWidgets": {},
     "nuid": "9b0f6d6f-b27d-4fbb-883e-0b59b097e7f8",
     "showTitle": false,
     "tableResultSettingsMap": {},
     "title": ""
    }
   },
   "outputs": [
    {
     "output_type": "stream",
     "name": "stdout",
     "output_type": "stream",
     "text": [
      "+----------+-----+--------------------------+--------------------------+-----------------------+\n|vehicle_id|speed|timestamp                 |event_time                |ingest_time            |\n+----------+-----+--------------------------+--------------------------+-----------------------+\n|4925      |79   |2025-08-28 18:43:27.841534|2025-08-28 18:43:27.841534|2025-08-28 13:29:39.478|\n|6605      |20   |2025-08-28 18:43:31.710027|2025-08-28 18:43:31.710027|2025-08-28 13:29:39.478|\n|2450      |68   |2025-08-28 18:43:47.834024|2025-08-28 18:43:47.834024|2025-08-28 13:29:39.478|\n|9278      |52   |2025-08-28 18:43:56.346297|2025-08-28 18:43:56.346297|2025-08-28 13:29:39.478|\n|9002      |112  |2025-08-28 18:44:00.838685|2025-08-28 18:44:00.838685|2025-08-28 13:29:39.478|\n|8900      |44   |2025-08-28 18:44:04.837131|2025-08-28 18:44:04.837131|2025-08-28 13:29:39.478|\n|1245      |99   |2025-08-28 18:44:16.873968|2025-08-28 18:44:16.873968|2025-08-28 13:29:39.478|\n|1877      |83   |2025-08-28 18:44:28.787500|2025-08-28 18:44:28.7875  |2025-08-28 13:29:39.478|\n|1050      |58   |2025-08-28 18:44:32.695367|2025-08-28 18:44:32.695367|2025-08-28 13:29:39.478|\n|4879      |20   |2025-08-28 18:44:36.641044|2025-08-28 18:44:36.641044|2025-08-28 13:29:39.478|\n+----------+-----+--------------------------+--------------------------+-----------------------+\nonly showing top 10 rows\n"
     ]
    }
   ],
   "source": [
    "\n",
    "# 6) ---- In a separate cell, AFTER stream runs ----\n",
    "# Read from Silver Delta table\n",
    "silver_df = spark.read.format(\"delta\").load(silver_path)\n",
    "\n",
    "# Show only 10 rows\n",
    "silver_df.show(10, truncate=False)\n"
   ]
  },
  {
   "cell_type": "code",
   "execution_count": 0,
   "metadata": {
    "application/vnd.databricks.v1+cell": {
     "cellMetadata": {
      "byteLimit": 2048000,
      "rowLimit": 10000
     },
     "inputWidgets": {},
     "nuid": "5018ea5e-d8d9-4ff3-b019-0a91b723cb62",
     "showTitle": false,
     "tableResultSettingsMap": {},
     "title": ""
    }
   },
   "outputs": [],
   "source": [
    "from pyspark.sql.functions import col, avg, count, window\n",
    "\n",
    "# 1. Read from silver (streaming)\n",
    "silver_df = (\n",
    "    spark.readStream\n",
    "    .format(\"delta\")\n",
    "    .load(\"/mnt/silver/iotdata\")\n",
    ")\n",
    "\n",
    "# 2. Aggregate for gold\n",
    "gold_df = (\n",
    "    silver_df\n",
    "    .withWatermark(\"event_time\", \"10 minutes\")   # use watermark on event_time\n",
    "    .groupBy(\n",
    "        window(col(\"event_time\"), \"5 minutes\"),  # tumbling window of 5 mins\n",
    "        col(\"vehicle_id\")\n",
    "    )\n",
    "    .agg(\n",
    "        avg(\"speed\").alias(\"avg_speed\"),\n",
    "        count(\"*\").alias(\"event_count\")\n",
    "    )\n",
    "    .select(\n",
    "        col(\"window.start\").alias(\"window_start\"),\n",
    "        col(\"window.end\").alias(\"window_end\"),\n",
    "        col(\"vehicle_id\"),\n",
    "        col(\"avg_speed\"),\n",
    "        col(\"event_count\")\n",
    "    )\n",
    ")\n",
    "\n",
    "# 3. Write to gold (Delta table)\n",
    "query = (\n",
    "    gold_df.writeStream\n",
    "    .format(\"delta\")\n",
    "    .outputMode(\"append\")     # required for aggregates with watermark\n",
    "    .option(\"checkpointLocation\", \"/mnt/gold/_checkpoint_iot\")\n",
    "    .start(\"/mnt/gold/iotdata\")\n",
    ")\n"
   ]
  },
  {
   "cell_type": "code",
   "execution_count": 0,
   "metadata": {
    "application/vnd.databricks.v1+cell": {
     "cellMetadata": {
      "byteLimit": 2048000,
      "rowLimit": 10000
     },
     "inputWidgets": {},
     "nuid": "ee0f80eb-36ec-44a1-8a33-db608cacf5ef",
     "showTitle": false,
     "tableResultSettingsMap": {},
     "title": ""
    }
   },
   "outputs": [
    {
     "output_type": "stream",
     "name": "stdout",
     "output_type": "stream",
     "text": [
      "+-------------------+-------------------+----------+---------+-----------+\n|window_start       |window_end         |vehicle_id|avg_speed|event_count|\n+-------------------+-------------------+----------+---------+-----------+\n|2025-08-28 18:40:00|2025-08-28 18:45:00|8322      |87.0     |1          |\n|2025-08-28 18:40:00|2025-08-28 18:45:00|2047      |60.0     |1          |\n|2025-08-28 18:40:00|2025-08-28 18:45:00|7314      |55.0     |1          |\n|2025-08-28 18:40:00|2025-08-28 18:45:00|6605      |20.0     |1          |\n|2025-08-28 18:40:00|2025-08-28 18:45:00|7634      |71.0     |1          |\n|2025-08-28 18:40:00|2025-08-28 18:45:00|4879      |20.0     |1          |\n|2025-08-28 18:40:00|2025-08-28 18:45:00|9278      |52.0     |1          |\n|2025-08-28 18:40:00|2025-08-28 18:45:00|8417      |114.0    |1          |\n|2025-08-28 18:40:00|2025-08-28 18:45:00|4925      |79.0     |1          |\n|2025-08-28 18:40:00|2025-08-28 18:45:00|1245      |99.0     |1          |\n+-------------------+-------------------+----------+---------+-----------+\nonly showing top 10 rows\n"
     ]
    }
   ],
   "source": [
    "# Register the gold delta folder as a temporary view\n",
    "gold_df_read = spark.read.format(\"delta\").load(\"/mnt/gold/iotdata\")\n",
    "\n",
    "# Show 10 rows\n",
    "gold_df_read.show(10, truncate=False)"
   ]
  },
  {
   "cell_type": "code",
   "execution_count": 0,
   "metadata": {
    "application/vnd.databricks.v1+cell": {
     "cellMetadata": {
      "byteLimit": 2048000,
      "implicitDf": true,
      "rowLimit": 10000
     },
     "inputWidgets": {},
     "nuid": "b66010a0-f985-4e6c-adf5-8c3321bc672e",
     "showTitle": false,
     "tableResultSettingsMap": {},
     "title": ""
    }
   },
   "outputs": [
    {
     "output_type": "display_data",
     "data": {
      "text/html": [
       "<style scoped>\n",
       "  .table-result-container {\n",
       "    max-height: 300px;\n",
       "    overflow: auto;\n",
       "  }\n",
       "  table, th, td {\n",
       "    border: 1px solid black;\n",
       "    border-collapse: collapse;\n",
       "  }\n",
       "  th, td {\n",
       "    padding: 5px;\n",
       "  }\n",
       "  th {\n",
       "    text-align: left;\n",
       "  }\n",
       "</style><div class='table-result-container'><table class='table-result'><thead style='background-color: white'><tr><th>window_start</th><th>vehicle_id</th><th>avg_speed</th><th>event_count</th></tr></thead><tbody><tr><td>2025-08-28T18:45:00Z</td><td>7030</td><td>93.0</td><td>1</td></tr><tr><td>2025-08-28T18:45:00Z</td><td>2467</td><td>91.0</td><td>1</td></tr><tr><td>2025-08-28T18:45:00Z</td><td>8615</td><td>97.0</td><td>1</td></tr><tr><td>2025-08-28T18:45:00Z</td><td>7130</td><td>101.0</td><td>1</td></tr><tr><td>2025-08-28T18:45:00Z</td><td>2860</td><td>66.0</td><td>1</td></tr><tr><td>2025-08-28T18:45:00Z</td><td>4514</td><td>41.0</td><td>1</td></tr><tr><td>2025-08-28T18:45:00Z</td><td>2309</td><td>93.0</td><td>1</td></tr><tr><td>2025-08-28T18:45:00Z</td><td>1878</td><td>40.0</td><td>1</td></tr><tr><td>2025-08-28T18:45:00Z</td><td>5015</td><td>116.0</td><td>1</td></tr><tr><td>2025-08-28T18:45:00Z</td><td>8787</td><td>103.0</td><td>1</td></tr></tbody></table></div>"
      ]
     },
     "metadata": {
      "application/vnd.databricks.v1+output": {
       "addedWidgets": {},
       "aggData": [],
       "aggError": "",
       "aggOverflow": false,
       "aggSchema": [],
       "aggSeriesLimitReached": false,
       "aggType": "",
       "arguments": {},
       "columnCustomDisplayInfos": {},
       "data": [
        [
         "2025-08-28T18:45:00Z",
         7030,
         93.0,
         1
        ],
        [
         "2025-08-28T18:45:00Z",
         2467,
         91.0,
         1
        ],
        [
         "2025-08-28T18:45:00Z",
         8615,
         97.0,
         1
        ],
        [
         "2025-08-28T18:45:00Z",
         7130,
         101.0,
         1
        ],
        [
         "2025-08-28T18:45:00Z",
         2860,
         66.0,
         1
        ],
        [
         "2025-08-28T18:45:00Z",
         4514,
         41.0,
         1
        ],
        [
         "2025-08-28T18:45:00Z",
         2309,
         93.0,
         1
        ],
        [
         "2025-08-28T18:45:00Z",
         1878,
         40.0,
         1
        ],
        [
         "2025-08-28T18:45:00Z",
         5015,
         116.0,
         1
        ],
        [
         "2025-08-28T18:45:00Z",
         8787,
         103.0,
         1
        ]
       ],
       "datasetInfos": [
        {
         "name": "_sqldf",
         "schema": {
          "fields": [
           {
            "metadata": {},
            "name": "window_start",
            "nullable": true,
            "type": "timestamp"
           },
           {
            "metadata": {},
            "name": "vehicle_id",
            "nullable": true,
            "type": "integer"
           },
           {
            "metadata": {},
            "name": "avg_speed",
            "nullable": true,
            "type": "double"
           },
           {
            "metadata": {},
            "name": "event_count",
            "nullable": true,
            "type": "long"
           }
          ],
          "type": "struct"
         },
         "tableIdentifier": null,
         "typeStr": "pyspark.sql.dataframe.DataFrame"
        }
       ],
       "dbfsResultPath": null,
       "isJsonSchema": true,
       "metadata": {
        "createTempViewForImplicitDf": true,
        "dataframeName": "_sqldf",
        "executionCount": 21
       },
       "overflow": false,
       "plotOptions": {
        "customPlotOptions": {},
        "displayType": "table",
        "pivotAggregation": null,
        "pivotColumns": null,
        "xColumns": null,
        "yColumns": null
       },
       "removedWidgets": [],
       "schema": [
        {
         "metadata": "{}",
         "name": "window_start",
         "type": "\"timestamp\""
        },
        {
         "metadata": "{}",
         "name": "vehicle_id",
         "type": "\"integer\""
        },
        {
         "metadata": "{}",
         "name": "avg_speed",
         "type": "\"double\""
        },
        {
         "metadata": "{}",
         "name": "event_count",
         "type": "\"long\""
        }
       ],
       "type": "table"
      }
     },
     "output_type": "display_data"
    }
   ],
   "source": [
    "%sql\n",
    "SELECT window_start, vehicle_id, avg_speed, event_count\n",
    "FROM delta.`/mnt/gold/iotdata`\n",
    "ORDER BY window_start DESC\n",
    "LIMIT 10;\n"
   ]
  }
 ],
 "metadata": {
  "application/vnd.databricks.v1+notebook": {
   "computePreferences": null,
   "dashboards": [],
   "environmentMetadata": {
    "base_environment": "",
    "environment_version": "3"
   },
   "inputWidgetPreferences": null,
   "language": "python",
   "notebookMetadata": {
    "mostRecentlyExecutedCommandWithImplicitDF": {
     "commandId": 5773255393634150,
     "dataframes": [
      "_sqldf"
     ]
    },
    "pythonIndentUnit": 4
   },
   "notebookName": "Final traffic real time",
   "widgets": {}
  },
  "language_info": {
   "name": "python"
  }
 },
 "nbformat": 4,
 "nbformat_minor": 0
}