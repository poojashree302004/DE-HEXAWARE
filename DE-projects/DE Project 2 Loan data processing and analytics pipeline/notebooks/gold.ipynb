{
 "cells": [
  {
   "cell_type": "code",
   "execution_count": 0,
   "metadata": {
    "application/vnd.databricks.v1+cell": {
     "cellMetadata": {
      "byteLimit": 2048000,
      "rowLimit": 10000
     },
     "inputWidgets": {},
     "nuid": "b7aaea94-5118-4377-8dbf-933ed569817f",
     "showTitle": false,
     "tableResultSettingsMap": {},
     "title": ""
    }
   },
   "outputs": [],
   "source": [
    "from pyspark.sql.functions import sum, avg, count, round, col\n",
    "\n",
    "# \uD83D\uDD39 Add ADF parameters (input/output paths)\n",
    "dbutils.widgets.text(\"input\", \"\")\n",
    "dbutils.widgets.text(\"output\", \"\")\n",
    "\n",
    "input_path = dbutils.widgets.get(\"input\")\n",
    "output_path = dbutils.widgets.get(\"output\")\n",
    "\n",
    "# Read Silver Delta table (from ADF input parameter)\n",
    "silver_df = spark.read.format(\"delta\").load(input_path)\n",
    "\n",
    "# Example Gold aggregations\n",
    "gold_df = (\n",
    "    silver_df.groupBy(\"Loan_Category\")\n",
    "    .agg(\n",
    "        count(\"Customer_ID\").alias(\"Total_Customers\"),\n",
    "        sum(\"Loan_Amount\").alias(\"Total_Loan_Amount\"),\n",
    "        avg(\"Income\").alias(\"Avg_Income\"),\n",
    "        avg(\"Expenditure\").alias(\"Avg_Expenditure\"),\n",
    "        avg(\"Overdue\").alias(\"Avg_Overdue_Days\"),\n",
    "        avg(\"Debt_Record\").alias(\"Avg_Debt_Record\"),\n",
    "        avg(\"Returned_Cheque\").alias(\"Avg_Returned_Cheques\"),\n",
    "        avg(\"Dishonour_of_Bill\").alias(\"Avg_Dishonour_Bills\")\n",
    "    )\n",
    "    .withColumn(\"Total_Loan_Amount\", round(col(\"Total_Loan_Amount\"), 2))\n",
    "    .withColumn(\"Avg_Income\", round(col(\"Avg_Income\"), 2))\n",
    "    .withColumn(\"Avg_Expenditure\", round(col(\"Avg_Expenditure\"), 2))\n",
    "    .withColumn(\"Avg_Overdue_Days\", round(col(\"Avg_Overdue_Days\"), 2))\n",
    "    .withColumn(\"Avg_Debt_Record\", round(col(\"Avg_Debt_Record\"), 2))\n",
    "    .withColumn(\"Avg_Returned_Cheques\", round(col(\"Avg_Returned_Cheques\"), 2))\n",
    "    .withColumn(\"Avg_Dishonour_Bills\", round(col(\"Avg_Dishonour_Bills\"), 2))\n",
    ")\n",
    "\n",
    "# Write Gold Delta table (to ADF output parameter)\n",
    "gold_df.write.format(\"delta\").mode(\"overwrite\").save(output_path)\n"
   ]
  }
 ],
 "metadata": {
  "application/vnd.databricks.v1+notebook": {
   "computePreferences": null,
   "dashboards": [],
   "environmentMetadata": {
    "base_environment": "",
    "environment_version": "3"
   },
   "inputWidgetPreferences": null,
   "language": "python",
   "notebookMetadata": {
    "pythonIndentUnit": 4
   },
   "notebookName": "gold",
   "widgets": {}
  },
  "language_info": {
   "name": "python"
  }
 },
 "nbformat": 4,
 "nbformat_minor": 0
}