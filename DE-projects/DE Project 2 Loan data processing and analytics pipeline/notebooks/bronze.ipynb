{
 "cells": [
  {
   "cell_type": "code",
   "execution_count": 0,
   "metadata": {
    "application/vnd.databricks.v1+cell": {
     "cellMetadata": {},
     "inputWidgets": {},
     "nuid": "07462985-a59a-4602-9bc7-25e9a3ae0044",
     "showTitle": false,
     "tableResultSettingsMap": {},
     "title": ""
    }
   },
   "outputs": [
    {
     "output_type": "execute_result",
     "data": {
      "text/plain": [
       "<pyspark.sql.streaming.query.StreamingQuery at 0x7f23a491ec00>"
      ]
     },
     "execution_count": 1,
     "metadata": {},
     "output_type": "execute_result"
    }
   ],
   "source": [
    "from pyspark.sql.types import StructType, StructField, StringType, IntegerType\n",
    "from pyspark.sql.functions import input_file_name\n",
    "\n",
    "# ADF parameters\n",
    "dbutils.widgets.text(\"input\", \"\")\n",
    "dbutils.widgets.text(\"output\", \"\")\n",
    "\n",
    "input_path = dbutils.widgets.get(\"input\")\n",
    "output_path = dbutils.widgets.get(\"output\")\n",
    "\n",
    "# Define schema\n",
    "schema = StructType([\n",
    "    StructField(\"Customer_ID\", StringType()),\n",
    "    StructField(\"Age\", IntegerType()),\n",
    "    StructField(\"Gender\", StringType()),\n",
    "    StructField(\"Occupation\", StringType()),\n",
    "    StructField(\"Marital_Status\", StringType()),\n",
    "    StructField(\"Family_Size\", IntegerType()),\n",
    "    StructField(\"Income\", IntegerType()),\n",
    "    StructField(\"Expenditure\", IntegerType()),\n",
    "    StructField(\"Use_Frequency\", IntegerType()),\n",
    "    StructField(\"Loan_Category\", StringType()),\n",
    "    StructField(\"Loan_Amount\", StringType()),\n",
    "    StructField(\"Overdue\", StringType()),\n",
    "    StructField(\"Debt_Record\", StringType()),\n",
    "    StructField(\"Returned_Cheque\", StringType()),\n",
    "    StructField(\"Dishonour_of_Bill\", StringType())\n",
    "])\n",
    "\n",
    "# Read raw CSV from input_path\n",
    "bronze_df = (\n",
    "    spark.read.format(\"csv\")\n",
    "    .option(\"header\", \"true\")\n",
    "    .schema(schema)\n",
    "    .load(input_path)\n",
    "    .withColumn(\"source_file\", input_file_name())\n",
    ")\n",
    "\n",
    "# Write to Bronze Delta\n",
    "bronze_df.write.format(\"delta\").mode(\"overwrite\").save(output_path)\n"
   ]
  }
 ],
 "metadata": {
  "application/vnd.databricks.v1+notebook": {
   "computePreferences": null,
   "dashboards": [],
   "environmentMetadata": {
    "base_environment": "",
    "environment_version": "3"
   },
   "inputWidgetPreferences": null,
   "language": "python",
   "notebookMetadata": {
    "pythonIndentUnit": 4
   },
   "notebookName": "bronze",
   "widgets": {}
  },
  "language_info": {
   "name": "python"
  }
 },
 "nbformat": 4,
 "nbformat_minor": 0
}