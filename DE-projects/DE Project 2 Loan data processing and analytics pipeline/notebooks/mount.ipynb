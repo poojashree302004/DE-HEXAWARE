{
 "cells": [
  {
   "cell_type": "code",
   "execution_count": 0,
   "metadata": {
    "application/vnd.databricks.v1+cell": {
     "cellMetadata": {
      "byteLimit": 2048000,
      "rowLimit": 10000
     },
     "inputWidgets": {},
     "nuid": "c686300e-cc23-4cc3-9d9d-33e88d3627a3",
     "showTitle": false,
     "tableResultSettingsMap": {},
     "title": ""
    }
   },
   "outputs": [
    {
     "output_type": "stream",
     "name": "stdout",
     "output_type": "stream",
     "text": [
      "/mnt/loan has been unmounted.\n"
     ]
    },
    {
     "output_type": "display_data",
     "data": {
      "text/html": [
       "<style scoped>\n",
       "  .table-result-container {\n",
       "    max-height: 300px;\n",
       "    overflow: auto;\n",
       "  }\n",
       "  table, th, td {\n",
       "    border: 1px solid black;\n",
       "    border-collapse: collapse;\n",
       "  }\n",
       "  th, td {\n",
       "    padding: 5px;\n",
       "  }\n",
       "  th {\n",
       "    text-align: left;\n",
       "  }\n",
       "</style><div class='table-result-container'><table class='table-result'><thead style='background-color: white'><tr><th>path</th><th>name</th><th>size</th><th>modificationTime</th></tr></thead><tbody><tr><td>dbfs:/mnt/loan/bronze/</td><td>bronze/</td><td>0</td><td>0</td></tr><tr><td>dbfs:/mnt/loan/checkpoints/</td><td>checkpoints/</td><td>0</td><td>0</td></tr><tr><td>dbfs:/mnt/loan/gold/</td><td>gold/</td><td>0</td><td>0</td></tr><tr><td>dbfs:/mnt/loan/raw/</td><td>raw/</td><td>0</td><td>0</td></tr><tr><td>dbfs:/mnt/loan/silver/</td><td>silver/</td><td>0</td><td>0</td></tr></tbody></table></div>"
      ]
     },
     "metadata": {
      "application/vnd.databricks.v1+output": {
       "addedWidgets": {},
       "aggData": [],
       "aggError": "",
       "aggOverflow": false,
       "aggSchema": [],
       "aggSeriesLimitReached": false,
       "aggType": "",
       "arguments": {},
       "columnCustomDisplayInfos": {},
       "data": [
        [
         "dbfs:/mnt/loan/bronze/",
         "bronze/",
         0,
         0
        ],
        [
         "dbfs:/mnt/loan/checkpoints/",
         "checkpoints/",
         0,
         0
        ],
        [
         "dbfs:/mnt/loan/gold/",
         "gold/",
         0,
         0
        ],
        [
         "dbfs:/mnt/loan/raw/",
         "raw/",
         0,
         0
        ],
        [
         "dbfs:/mnt/loan/silver/",
         "silver/",
         0,
         0
        ]
       ],
       "datasetInfos": [],
       "dbfsResultPath": null,
       "isJsonSchema": true,
       "metadata": {},
       "overflow": false,
       "plotOptions": {
        "customPlotOptions": {},
        "displayType": "table",
        "pivotAggregation": null,
        "pivotColumns": null,
        "xColumns": null,
        "yColumns": null
       },
       "removedWidgets": [],
       "schema": [
        {
         "metadata": "{}",
         "name": "path",
         "type": "\"string\""
        },
        {
         "metadata": "{}",
         "name": "name",
         "type": "\"string\""
        },
        {
         "metadata": "{}",
         "name": "size",
         "type": "\"long\""
        },
        {
         "metadata": "{}",
         "name": "modificationTime",
         "type": "\"long\""
        }
       ],
       "type": "table"
      }
     },
     "output_type": "display_data"
    }
   ],
   "source": [
    "# Define your parameters\n",
    "storage_account_name = \"projectsamp\"\n",
    "container_name = \"loan\"\n",
    "sas_token = \"sv=2024-11-04&ss=bfqt&srt=sco&sp=rwdlacupyx&se=2025-08-25T13:18:04Z&st=2025-08-25T05:03:04Z&spr=https&sig=RYO1pzz35t2Bh7x4akeLLtCI8t5IYK7WxJoXdA1WtKI%3D\"\n",
    "# Mount path\n",
    "mount_point = f\"/mnt/{container_name}\"\n",
    "\n",
    "# Unmount if already mounted\n",
    "if mount_point in [mnt.mountPoint for mnt in dbutils.fs.mounts()]:\n",
    "    dbutils.fs.unmount(mount_point)\n",
    "\n",
    "# Mount storage\n",
    "dbutils.fs.mount(\n",
    "  source = f\"wasbs://{container_name}@{storage_account_name}.blob.core.windows.net\",\n",
    "  mount_point = mount_point,\n",
    "  extra_configs = {f\"fs.azure.sas.{container_name}.{storage_account_name}.blob.core.windows.net\": sas_token}\n",
    ")\n",
    "\n",
    "# Check mount\n",
    "display(dbutils.fs.ls(mount_point))"
   ]
  }
 ],
 "metadata": {
  "application/vnd.databricks.v1+notebook": {
   "computePreferences": null,
   "dashboards": [],
   "environmentMetadata": {
    "base_environment": "",
    "environment_version": "3"
   },
   "inputWidgetPreferences": null,
   "language": "python",
   "notebookMetadata": {
    "pythonIndentUnit": 4
   },
   "notebookName": "mount",
   "widgets": {}
  },
  "language_info": {
   "name": "python"
  }
 },
 "nbformat": 4,
 "nbformat_minor": 0
}