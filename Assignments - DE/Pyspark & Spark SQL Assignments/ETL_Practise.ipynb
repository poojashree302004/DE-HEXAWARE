{
  "cells": [
    {
      "cell_type": "code",
      "execution_count": null,
      "id": "a41b0318",
      "metadata": {
        "id": "a41b0318"
      },
      "outputs": [],
      "source": [
        "# ETL stands for\n",
        "\n",
        "# Extract: extract the data from the different sources\n",
        "\n",
        "# Transform: Transform the unstructured data into structured data. Transformations like cleaning, manipulation, etc.\n",
        "\n",
        "# Load : Load the transformed data into a location or date warehouse.\n"
      ]
    },
    {
      "cell_type": "code",
      "execution_count": null,
      "id": "574aa579",
      "metadata": {
        "id": "574aa579"
      },
      "outputs": [],
      "source": [
        "from pyspark.sql import SparkSession\n",
        "from pyspark.sql.functions import col,concat,lit,floor,rand\n",
        "spark = SparkSession.builder.appName(\"ETLPractice\").getOrCreate()\n",
        "source_path = \"/content/LoanData.csv\"\n",
        "target_path = \"/content/LoanDataResult.csv\"\n",
        "load_data = spark.read.csv(\"/content/LoanData.csv\",header = True, inferSchema = True)\n"
      ]
    },
    {
      "cell_type": "code",
      "execution_count": null,
      "id": "ff669f41",
      "metadata": {
        "id": "ff669f41",
        "outputId": "1848ae53-eeca-4b21-d946-d00614089a16",
        "colab": {
          "base_uri": "https://localhost:8080/"
        }
      },
      "outputs": [
        {
          "output_type": "stream",
          "name": "stdout",
          "text": [
            "+--------+------+-------+----------+------------+-------------+---------------+-----------------+----------+----------------+--------------+-------------+-----------+\n",
            "| Loan_ID|Gender|Married|Dependents|   Education|Self_Employed|ApplicantIncome|CoapplicantIncome|LoanAmount|Loan_Amount_Term|Credit_History|Property_Area|Loan_Status|\n",
            "+--------+------+-------+----------+------------+-------------+---------------+-----------------+----------+----------------+--------------+-------------+-----------+\n",
            "|LP001002|  Male|     No|         0|    Graduate|           No|           5849|              0.0|      NULL|             360|             1|        Urban|          Y|\n",
            "|LP001003|  Male|    Yes|         1|    Graduate|           No|           4583|           1508.0|       128|             360|             1|        Rural|          N|\n",
            "|LP001005|  Male|    Yes|         0|    Graduate|          Yes|           3000|              0.0|        66|             360|             1|        Urban|          Y|\n",
            "|LP001006|  Male|    Yes|         0|Not Graduate|           No|           2583|           2358.0|       120|             360|             1|        Urban|          Y|\n",
            "|LP001008|  Male|     No|         0|    Graduate|           No|           6000|              0.0|       141|             360|             1|        Urban|          Y|\n",
            "+--------+------+-------+----------+------------+-------------+---------------+-----------------+----------+----------------+--------------+-------------+-----------+\n",
            "only showing top 5 rows\n",
            "\n"
          ]
        }
      ],
      "source": [
        "load_data.columns\n",
        "load_data.show(5)\n"
      ]
    },
    {
      "cell_type": "code",
      "execution_count": null,
      "id": "dd84ff8f",
      "metadata": {
        "id": "dd84ff8f",
        "outputId": "a2e39379-fe97-4f3a-8097-fc49b89ed907",
        "colab": {
          "base_uri": "https://localhost:8080/"
        }
      },
      "outputs": [
        {
          "output_type": "stream",
          "name": "stdout",
          "text": [
            "+--------+------+-------+----------+------------+-------------+---------------+-----------------+----------+----------------+--------------+-------------+-----------+-------------+-------------+\n",
            "| Loan_ID|Gender|Married|Dependents|   Education|Self_Employed|ApplicantIncome|CoapplicantIncome|LoanAmount|Loan_Amount_Term|Credit_History|Property_Area|Loan_Status|  full_detail|  Loan_detail|\n",
            "+--------+------+-------+----------+------------+-------------+---------------+-----------------+----------+----------------+--------------+-------------+-----------+-------------+-------------+\n",
            "|LP001002|  Male|     No|         0|    Graduate|           No|           5849|              0.0|      NULL|             360|             1|        Urban|          Y|LP001002 5849|LP001002 5849|\n",
            "|LP001003|  Male|    Yes|         1|    Graduate|           No|           4583|           1508.0|       128|             360|             1|        Rural|          N|LP001003 4583|LP001003 4583|\n",
            "|LP001005|  Male|    Yes|         0|    Graduate|          Yes|           3000|              0.0|        66|             360|             1|        Urban|          Y|LP001005 3000|LP001005 3000|\n",
            "|LP001006|  Male|    Yes|         0|Not Graduate|           No|           2583|           2358.0|       120|             360|             1|        Urban|          Y|LP001006 2583|LP001006 2583|\n",
            "|LP001008|  Male|     No|         0|    Graduate|           No|           6000|              0.0|       141|             360|             1|        Urban|          Y|LP001008 6000|LP001008 6000|\n",
            "+--------+------+-------+----------+------------+-------------+---------------+-----------------+----------+----------------+--------------+-------------+-----------+-------------+-------------+\n",
            "only showing top 5 rows\n",
            "\n"
          ]
        }
      ],
      "source": [
        " #Transformation 1: Concatenate First and Last Names\n",
        "load_data = load_data.withColumn('Loan_detail', concat(col('Loan_ID'), lit(' '), col('ApplicantIncome')))\n",
        "load_data.show(5)"
      ]
    },
    {
      "cell_type": "code",
      "execution_count": null,
      "id": "48f148e0",
      "metadata": {
        "id": "48f148e0",
        "outputId": "4d1cdaf7-8628-464b-c329-4bcf5a12adaa",
        "colab": {
          "base_uri": "https://localhost:8080/"
        }
      },
      "outputs": [
        {
          "output_type": "stream",
          "name": "stdout",
          "text": [
            "+--------+------+-------+----------+------------+-------------+---------------+-----------------+----------+----------------+--------------+-------------+-----------+--------------+--------------+----------+\n",
            "| Loan_ID|Gender|Married|Dependents|   Education|Self_Employed|ApplicantIncome|CoapplicantIncome|LoanAmount|Loan_Amount_Term|Credit_History|Property_Area|Loan_Status|   full_detail|   Loan_detail|net_salary|\n",
            "+--------+------+-------+----------+------------+-------------+---------------+-----------------+----------+----------------+--------------+-------------+-----------+--------------+--------------+----------+\n",
            "|LP001002|  Male|     No|         0|    Graduate|           No|           5849|              0.0|      NULL|             360|             1|        Urban|          Y| LP001002 5849| LP001002 5849|     10018|\n",
            "|LP001003|  Male|    Yes|         1|    Graduate|           No|           4583|           1508.0|       128|             360|             1|        Rural|          N| LP001003 4583| LP001003 4583|     10031|\n",
            "|LP001005|  Male|    Yes|         0|    Graduate|          Yes|           3000|              0.0|        66|             360|             1|        Urban|          Y| LP001005 3000| LP001005 3000|     10039|\n",
            "|LP001006|  Male|    Yes|         0|Not Graduate|           No|           2583|           2358.0|       120|             360|             1|        Urban|          Y| LP001006 2583| LP001006 2583|     10036|\n",
            "|LP001008|  Male|     No|         0|    Graduate|           No|           6000|              0.0|       141|             360|             1|        Urban|          Y| LP001008 6000| LP001008 6000|     10000|\n",
            "|LP001011|  Male|    Yes|         2|    Graduate|          Yes|           5417|           4196.0|       267|             360|             1|        Urban|          Y| LP001011 5417| LP001011 5417|     10042|\n",
            "|LP001013|  Male|    Yes|         0|Not Graduate|           No|           2333|           1516.0|        95|             360|             1|        Urban|          Y| LP001013 2333| LP001013 2333|     10003|\n",
            "|LP001014|  Male|    Yes|        3+|    Graduate|           No|           3036|           2504.0|       158|             360|             0|    Semiurban|          N| LP001014 3036| LP001014 3036|     10016|\n",
            "|LP001018|  Male|    Yes|         2|    Graduate|           No|           4006|           1526.0|       168|             360|             1|        Urban|          Y| LP001018 4006| LP001018 4006|     10024|\n",
            "|LP001020|  Male|    Yes|         1|    Graduate|           No|          12841|          10968.0|       349|             360|             1|    Semiurban|          N|LP001020 12841|LP001020 12841|     10013|\n",
            "+--------+------+-------+----------+------------+-------------+---------------+-----------------+----------+----------------+--------------+-------------+-----------+--------------+--------------+----------+\n",
            "only showing top 10 rows\n",
            "\n"
          ]
        }
      ],
      "source": [
        "# Transformation 2: Calculate Net Salary (subtract 10% as taxes)\n",
        "load_data = load_data.withColumn('net_salary', floor(lit(10000) + rand() * lit(50)))\n",
        "load_data.show(10)"
      ]
    },
    {
      "cell_type": "code",
      "execution_count": null,
      "id": "381e5b9d",
      "metadata": {
        "id": "381e5b9d",
        "outputId": "25eafda4-d614-4d8f-b99a-2624661b3828",
        "colab": {
          "base_uri": "https://localhost:8080/"
        }
      },
      "outputs": [
        {
          "output_type": "stream",
          "name": "stdout",
          "text": [
            "+--------+------+-------+----------+------------+-------------+---------------+-----------------+----------+----------------+--------------+-------------+-----------+--------------+--------------+----------+---+\n",
            "| Loan_ID|Gender|Married|Dependents|   Education|Self_Employed|ApplicantIncome|CoapplicantIncome|LoanAmount|Loan_Amount_Term|Credit_History|Property_Area|Loan_Status|   full_detail|   Loan_detail|net_salary|age|\n",
            "+--------+------+-------+----------+------------+-------------+---------------+-----------------+----------+----------------+--------------+-------------+-----------+--------------+--------------+----------+---+\n",
            "|LP001002|  Male|     No|         0|    Graduate|           No|           5849|              0.0|      NULL|             360|             1|        Urban|          Y| LP001002 5849| LP001002 5849|     10018| 43|\n",
            "|LP001003|  Male|    Yes|         1|    Graduate|           No|           4583|           1508.0|       128|             360|             1|        Rural|          N| LP001003 4583| LP001003 4583|     10031| 28|\n",
            "|LP001005|  Male|    Yes|         0|    Graduate|          Yes|           3000|              0.0|        66|             360|             1|        Urban|          Y| LP001005 3000| LP001005 3000|     10039| 28|\n",
            "|LP001006|  Male|    Yes|         0|Not Graduate|           No|           2583|           2358.0|       120|             360|             1|        Urban|          Y| LP001006 2583| LP001006 2583|     10036| 34|\n",
            "|LP001008|  Male|     No|         0|    Graduate|           No|           6000|              0.0|       141|             360|             1|        Urban|          Y| LP001008 6000| LP001008 6000|     10000| 47|\n",
            "|LP001011|  Male|    Yes|         2|    Graduate|          Yes|           5417|           4196.0|       267|             360|             1|        Urban|          Y| LP001011 5417| LP001011 5417|     10042| 29|\n",
            "|LP001013|  Male|    Yes|         0|Not Graduate|           No|           2333|           1516.0|        95|             360|             1|        Urban|          Y| LP001013 2333| LP001013 2333|     10003| 31|\n",
            "|LP001014|  Male|    Yes|        3+|    Graduate|           No|           3036|           2504.0|       158|             360|             0|    Semiurban|          N| LP001014 3036| LP001014 3036|     10016| 42|\n",
            "|LP001018|  Male|    Yes|         2|    Graduate|           No|           4006|           1526.0|       168|             360|             1|        Urban|          Y| LP001018 4006| LP001018 4006|     10024| 44|\n",
            "|LP001020|  Male|    Yes|         1|    Graduate|           No|          12841|          10968.0|       349|             360|             1|    Semiurban|          N|LP001020 12841|LP001020 12841|     10013| 43|\n",
            "+--------+------+-------+----------+------------+-------------+---------------+-----------------+----------+----------------+--------------+-------------+-----------+--------------+--------------+----------+---+\n",
            "only showing top 10 rows\n",
            "\n"
          ]
        }
      ],
      "source": [
        "#adding age column\n",
        "load_data = load_data.withColumn('age', floor(lit(20) + rand() * lit(31)))\n",
        "load_data.show(10)"
      ]
    },
    {
      "cell_type": "code",
      "execution_count": null,
      "id": "a06b4e88",
      "metadata": {
        "id": "a06b4e88",
        "outputId": "6893c16c-eb63-4abb-ef99-03fbc0108f57",
        "colab": {
          "base_uri": "https://localhost:8080/"
        }
      },
      "outputs": [
        {
          "output_type": "stream",
          "name": "stdout",
          "text": [
            "+--------+------+-------+----------+------------+-------------+---------------+-----------------+----------+----------------+--------------+-------------+-----------+--------------+--------------+----------+---+\n",
            "| Loan_ID|Gender|Married|Dependents|   Education|Self_Employed|ApplicantIncome|CoapplicantIncome|LoanAmount|Loan_Amount_Term|Credit_History|Property_Area|Loan_Status|   full_detail|   Loan_detail|net_salary|age|\n",
            "+--------+------+-------+----------+------------+-------------+---------------+-----------------+----------+----------------+--------------+-------------+-----------+--------------+--------------+----------+---+\n",
            "|LP001002|  Male|     No|         0|    Graduate|           No|           5849|              0.0|      NULL|             360|             1|        Urban|          Y| LP001002 5849| LP001002 5849|     10018| 43|\n",
            "|LP001006|  Male|    Yes|         0|Not Graduate|           No|           2583|           2358.0|       120|             360|             1|        Urban|          Y| LP001006 2583| LP001006 2583|     10036| 34|\n",
            "|LP001008|  Male|     No|         0|    Graduate|           No|           6000|              0.0|       141|             360|             1|        Urban|          Y| LP001008 6000| LP001008 6000|     10000| 47|\n",
            "|LP001013|  Male|    Yes|         0|Not Graduate|           No|           2333|           1516.0|        95|             360|             1|        Urban|          Y| LP001013 2333| LP001013 2333|     10003| 31|\n",
            "|LP001014|  Male|    Yes|        3+|    Graduate|           No|           3036|           2504.0|       158|             360|             0|    Semiurban|          N| LP001014 3036| LP001014 3036|     10016| 42|\n",
            "|LP001018|  Male|    Yes|         2|    Graduate|           No|           4006|           1526.0|       168|             360|             1|        Urban|          Y| LP001018 4006| LP001018 4006|     10024| 44|\n",
            "|LP001020|  Male|    Yes|         1|    Graduate|           No|          12841|          10968.0|       349|             360|             1|    Semiurban|          N|LP001020 12841|LP001020 12841|     10013| 43|\n",
            "|LP001024|  Male|    Yes|         2|    Graduate|           No|           3200|            700.0|        70|             360|             1|        Urban|          Y| LP001024 3200| LP001024 3200|     10007| 36|\n",
            "|LP001028|  Male|    Yes|         2|    Graduate|           No|           3073|           8106.0|       200|             360|             1|        Urban|          Y| LP001028 3073| LP001028 3073|     10004| 45|\n",
            "|LP001030|  Male|    Yes|         2|    Graduate|           No|           1299|           1086.0|        17|             120|             1|        Urban|          Y| LP001030 1299| LP001030 1299|     10042| 44|\n",
            "|LP001032|  Male|     No|         0|    Graduate|           No|           4950|              0.0|       125|             360|             1|        Urban|          Y| LP001032 4950| LP001032 4950|     10032| 30|\n",
            "|LP001036|Female|     No|         0|    Graduate|           No|           3510|              0.0|        76|             360|             0|        Urban|          N| LP001036 3510| LP001036 3510|     10034| 40|\n",
            "|LP001038|  Male|    Yes|         0|Not Graduate|           No|           4887|              0.0|       133|             360|             1|        Rural|          N| LP001038 4887| LP001038 4887|     10042| 49|\n",
            "|LP001041|  Male|    Yes|         0|    Graduate|         NULL|           2600|           3500.0|       115|            NULL|             1|        Urban|          Y| LP001041 2600| LP001041 2600|     10023| 31|\n",
            "|LP001046|  Male|    Yes|         1|    Graduate|           No|           5955|           5625.0|       315|             360|             1|        Urban|          Y| LP001046 5955| LP001046 5955|     10012| 40|\n",
            "|LP001050|  NULL|    Yes|         2|Not Graduate|           No|           3365|           1917.0|       112|             360|             0|        Rural|          N| LP001050 3365| LP001050 3365|     10043| 39|\n",
            "|LP001052|  Male|    Yes|         1|    Graduate|         NULL|           3717|           2925.0|       151|             360|          NULL|    Semiurban|          N| LP001052 3717| LP001052 3717|     10045| 44|\n",
            "|LP001073|  Male|    Yes|         2|Not Graduate|           No|           4226|           1040.0|       110|             360|             1|        Urban|          Y| LP001073 4226| LP001073 4226|     10012| 30|\n",
            "|LP001086|  Male|     No|         0|Not Graduate|           No|           1442|              0.0|        35|             360|             1|        Urban|          N| LP001086 1442| LP001086 1442|     10037| 41|\n",
            "|LP001091|  Male|    Yes|         1|    Graduate|         NULL|           4166|           3369.0|       201|             360|          NULL|        Urban|          N| LP001091 4166| LP001091 4166|     10047| 36|\n",
            "+--------+------+-------+----------+------------+-------------+---------------+-----------------+----------+----------------+--------------+-------------+-----------+--------------+--------------+----------+---+\n",
            "only showing top 20 rows\n",
            "\n"
          ]
        }
      ],
      "source": [
        "# # Transformation 3: Filter by Age (age >= 30)\n",
        "load_data = load_data.filter(col('age')>= 30)\n",
        "load_data.show()\n"
      ]
    },
    {
      "cell_type": "code",
      "execution_count": null,
      "id": "9847c661",
      "metadata": {
        "id": "9847c661",
        "outputId": "9a1eddee-09d8-4712-e7ae-482c77034424",
        "colab": {
          "base_uri": "https://localhost:8080/"
        }
      },
      "outputs": [
        {
          "output_type": "stream",
          "name": "stdout",
          "text": [
            "+---+------------------+\n",
            "|age|   avg(net_salary)|\n",
            "+---+------------------+\n",
            "| 34|10027.666666666666|\n",
            "| 50|10030.842105263158|\n",
            "| 43|           10022.3|\n",
            "| 32|10024.185185185184|\n",
            "| 31|10021.333333333334|\n",
            "| 39|10021.583333333334|\n",
            "| 41| 10028.78947368421|\n",
            "| 33|10024.533333333333|\n",
            "| 48|           10025.4|\n",
            "| 44|10023.611111111111|\n",
            "| 37| 10017.57142857143|\n",
            "| 49|10023.181818181818|\n",
            "| 35|10030.166666666666|\n",
            "| 36|10023.695652173914|\n",
            "| 38|           10031.0|\n",
            "| 42| 10025.91304347826|\n",
            "| 30|           10028.0|\n",
            "| 46| 10028.42857142857|\n",
            "| 40|           10021.0|\n",
            "| 47|10021.793103448275|\n",
            "+---+------------------+\n",
            "only showing top 20 rows\n",
            "\n"
          ]
        }
      ],
      "source": [
        "# Transformation 4: Group by Age and Calculate Average Salary\n",
        "avg_salary_by_age = load_data.groupBy('age').agg({'net_salary' :'avg'}).withColumnRenamed('avg(salary)', 'avg_salary')\n",
        "avg_salary_by_age.show()"
      ]
    },
    {
      "cell_type": "code",
      "execution_count": null,
      "id": "0a2b76aa",
      "metadata": {
        "id": "0a2b76aa",
        "outputId": "c3b8222f-23f2-40a2-d2a4-d93d491faf01",
        "colab": {
          "base_uri": "https://localhost:8080/"
        }
      },
      "outputs": [
        {
          "output_type": "stream",
          "name": "stdout",
          "text": [
            "+--------+------+-------+----------+------------+-------------+---------------+-----------------+----------+----------------+--------------+-------------+-----------+--------------+--------------+----------+---+\n",
            "| Loan_ID|Gender|Married|Dependents|   Education|Self_Employed|ApplicantIncome|CoapplicantIncome|LoanAmount|Loan_Amount_Term|Credit_History|Property_Area|Loan_Status|   full_detail|   Loan_detail|net_salary|age|\n",
            "+--------+------+-------+----------+------------+-------------+---------------+-----------------+----------+----------------+--------------+-------------+-----------+--------------+--------------+----------+---+\n",
            "|LP001964|  Male|    Yes|         0|Not Graduate|           No|           1800|           2934.0|        93|             360|             0|        Urban|          N| LP001964 1800| LP001964 1800|     10025| 30|\n",
            "|LP001032|  Male|     No|         0|    Graduate|           No|           4950|              0.0|       125|             360|             1|        Urban|          Y| LP001032 4950| LP001032 4950|     10032| 30|\n",
            "|LP001073|  Male|    Yes|         2|Not Graduate|           No|           4226|           1040.0|       110|             360|             1|        Urban|          Y| LP001073 4226| LP001073 4226|     10012| 30|\n",
            "|LP001565|  Male|    Yes|         1|    Graduate|           No|           3089|           1280.0|       121|             360|             0|    Semiurban|          N| LP001565 3089| LP001565 3089|     10044| 30|\n",
            "|LP001639|Female|    Yes|         0|    Graduate|           No|           3625|              0.0|       108|             360|             1|    Semiurban|          Y| LP001639 3625| LP001639 3625|     10045| 30|\n",
            "|LP001825|  Male|    Yes|         0|    Graduate|           No|           1809|           1868.0|        90|             360|             1|        Urban|          Y| LP001825 1809| LP001825 1809|     10043| 30|\n",
            "|LP002211|  Male|    Yes|         0|    Graduate|           No|           4817|            923.0|       120|             180|             1|        Urban|          Y| LP002211 4817| LP002211 4817|     10045| 30|\n",
            "|LP002288|  Male|    Yes|         2|Not Graduate|           No|           2889|              0.0|        45|             180|             0|        Urban|          N| LP002288 2889| LP002288 2889|     10029| 30|\n",
            "|LP002393|Female|   NULL|      NULL|    Graduate|           No|          10047|              0.0|      NULL|             240|             1|    Semiurban|          Y|LP002393 10047|LP002393 10047|     10040| 30|\n",
            "|LP002447|  Male|    Yes|         2|Not Graduate|           No|           1958|           1456.0|        60|             300|          NULL|        Urban|          Y| LP002447 1958| LP002447 1958|     10027| 30|\n",
            "|LP002689|  Male|    Yes|         2|Not Graduate|           No|           2192|           1742.0|        45|             360|             1|    Semiurban|          Y| LP002689 2192| LP002689 2192|     10035| 30|\n",
            "|LP002863|  Male|    Yes|        3+|    Graduate|           No|           6406|              0.0|       150|             360|             1|    Semiurban|          N| LP002863 6406| LP002863 6406|     10003| 30|\n",
            "|LP002872|  NULL|    Yes|         0|    Graduate|           No|           3087|           2210.0|       136|             360|             0|    Semiurban|          N| LP002872 3087| LP002872 3087|     10012| 30|\n",
            "|LP002888|  Male|     No|         0|    Graduate|         NULL|           3182|           2917.0|       161|             360|             1|        Urban|          Y| LP002888 3182| LP002888 3182|     10000| 30|\n",
            "|LP002181|  Male|     No|         0|Not Graduate|           No|           6216|              0.0|       133|             360|             1|        Rural|          N| LP002181 6216| LP002181 6216|     10024| 31|\n",
            "|LP002236|  Male|    Yes|         2|    Graduate|           No|           4566|              0.0|       100|             360|             1|        Urban|          N| LP002236 4566| LP002236 4566|     10044| 31|\n",
            "|LP001222|Female|     No|         0|    Graduate|           No|           4166|              0.0|       116|             360|             0|    Semiurban|          N| LP001222 4166| LP001222 4166|     10040| 31|\n",
            "|LP002243|  Male|    Yes|         0|Not Graduate|           No|           3010|           3136.0|      NULL|             360|             0|        Urban|          N| LP002243 3010| LP002243 3010|     10011| 31|\n",
            "|LP002031|  Male|    Yes|         1|Not Graduate|           No|           3399|           1640.0|       111|             180|             1|        Urban|          Y| LP002031 3399| LP002031 3399|     10013| 31|\n",
            "|LP001369|  Male|    Yes|         2|    Graduate|           No|          11417|           1126.0|       225|             360|             1|        Urban|          Y|LP001369 11417|LP001369 11417|     10002| 31|\n",
            "+--------+------+-------+----------+------------+-------------+---------------+-----------------+----------+----------------+--------------+-------------+-----------+--------------+--------------+----------+---+\n",
            "only showing top 20 rows\n",
            "\n"
          ]
        }
      ],
      "source": [
        "load_data = load_data.orderBy(\"age\")\n",
        "load_data.show()"
      ]
    },
    {
      "cell_type": "code",
      "execution_count": null,
      "id": "2bb7cc1e",
      "metadata": {
        "id": "2bb7cc1e"
      },
      "outputs": [],
      "source": [
        "# Save the transformed data to an external CSV file\n",
        "load_data.write.csv(target_path, mode='overwrite', header=True)"
      ]
    },
    {
      "cell_type": "code",
      "execution_count": null,
      "id": "99c311c5",
      "metadata": {
        "id": "99c311c5"
      },
      "outputs": [],
      "source": []
    },
    {
      "cell_type": "code",
      "execution_count": null,
      "id": "45d7ec36",
      "metadata": {
        "id": "45d7ec36"
      },
      "outputs": [],
      "source": []
    }
  ],
  "metadata": {
    "kernelspec": {
      "display_name": "Python 3 (ipykernel)",
      "language": "python",
      "name": "python3"
    },
    "language_info": {
      "codemirror_mode": {
        "name": "ipython",
        "version": 3
      },
      "file_extension": ".py",
      "mimetype": "text/x-python",
      "name": "python",
      "nbconvert_exporter": "python",
      "pygments_lexer": "ipython3",
      "version": "3.11.4"
    },
    "colab": {
      "provenance": []
    }
  },
  "nbformat": 4,
  "nbformat_minor": 5
}