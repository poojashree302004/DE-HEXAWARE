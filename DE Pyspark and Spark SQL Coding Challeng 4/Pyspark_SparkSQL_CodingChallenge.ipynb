{
  "nbformat": 4,
  "nbformat_minor": 0,
  "metadata": {
    "colab": {
      "provenance": []
    },
    "kernelspec": {
      "name": "python3",
      "display_name": "Python 3"
    },
    "language_info": {
      "name": "python"
    }
  },
  "cells": [
    {
      "cell_type": "code",
      "execution_count": 18,
      "metadata": {
        "colab": {
          "base_uri": "https://localhost:8080/"
        },
        "id": "MEuV1uHwldAC",
        "outputId": "a1cfe42b-f86a-48a0-b843-719533d2b4b6"
      },
      "outputs": [
        {
          "output_type": "stream",
          "name": "stdout",
          "text": [
            "+-------+----------+----------+----------+-----------+\n",
            "|cust_id|cust_fname|cust_lname|cust_order|cust_status|\n",
            "+-------+----------+----------+----------+-----------+\n",
            "|      1|      john|       doe|         5|     active|\n",
            "|      2|      jane|     smith|         8|     active|\n",
            "|      3|   micheal|   jhonson|         3|   inactive|\n",
            "|      4|      abhi|   wiliams|         1|     active|\n",
            "|      5|       ram|     brown|         4|   inactive|\n",
            "|      6|     emily|  anderson|         2|     active|\n",
            "|      7|   william|     jones|        10|     active|\n",
            "|      8|     susan|     davis|         7|   inactive|\n",
            "|      9|     david|    miller|         9|     active|\n",
            "|     10|      sara|     moore|         2|   inactive|\n",
            "|     11|     james|    tailor|         5|   inactive|\n",
            "|     12|    olivia|    wilson|         3|   inactive|\n",
            "|     13|    robert|     evans|        11|     active|\n",
            "|     14|      emma|    thomas|        29|     active|\n",
            "|     15|    mathew|     haris|         5|   inactive|\n",
            "|     16|  isabella|     white|         6|   inactive|\n",
            "|     17|    joseph|    martin|         4|   inactive|\n",
            "|     18|     grace|       lee|         5|     active|\n",
            "|     19|chrisopher|      basa|         8|   inactive|\n",
            "|     20|       ava|    joesph|         3|     active|\n",
            "+-------+----------+----------+----------+-----------+\n",
            "\n"
          ]
        }
      ],
      "source": [
        "import pyspark\n",
        "from pyspark import SparkContext\n",
        "from pyspark.sql import SparkSession\n",
        "from pyspark.sql.functions import *\n",
        "from pyspark.sql.window import Window\n",
        "spark =SparkSession.builder.appName(\"Coding Challenge\").getOrCreate()\n",
        "df = spark.read.csv(\"/content/orders (1).csv\",header=True,inferSchema=True)\n",
        "df.show()\n"
      ]
    },
    {
      "cell_type": "code",
      "source": [
        "#1. Filter()\n",
        "df.filter(df['cust_order']> 5).show()"
      ],
      "metadata": {
        "colab": {
          "base_uri": "https://localhost:8080/"
        },
        "id": "VLWjDXz-oKpW",
        "outputId": "5c929090-c1ff-458c-f631-827f174f2fb7"
      },
      "execution_count": 19,
      "outputs": [
        {
          "output_type": "stream",
          "name": "stdout",
          "text": [
            "+-------+----------+----------+----------+-----------+\n",
            "|cust_id|cust_fname|cust_lname|cust_order|cust_status|\n",
            "+-------+----------+----------+----------+-----------+\n",
            "|      2|      jane|     smith|         8|     active|\n",
            "|      7|   william|     jones|        10|     active|\n",
            "|      8|     susan|     davis|         7|   inactive|\n",
            "|      9|     david|    miller|         9|     active|\n",
            "|     13|    robert|     evans|        11|     active|\n",
            "|     14|      emma|    thomas|        29|     active|\n",
            "|     16|  isabella|     white|         6|   inactive|\n",
            "|     19|chrisopher|      basa|         8|   inactive|\n",
            "+-------+----------+----------+----------+-----------+\n",
            "\n"
          ]
        }
      ]
    },
    {
      "cell_type": "code",
      "source": [
        "#2. selecting the required fields\n",
        "df.select(\"cust_id\", \"cust_fname\").show()"
      ],
      "metadata": {
        "colab": {
          "base_uri": "https://localhost:8080/"
        },
        "id": "Kk1RmBmyo3hG",
        "outputId": "41545d67-b8a1-4924-c8c7-5ce8b3e8ba01"
      },
      "execution_count": 20,
      "outputs": [
        {
          "output_type": "stream",
          "name": "stdout",
          "text": [
            "+-------+----------+\n",
            "|cust_id|cust_fname|\n",
            "+-------+----------+\n",
            "|      1|      john|\n",
            "|      2|      jane|\n",
            "|      3|   micheal|\n",
            "|      4|      abhi|\n",
            "|      5|       ram|\n",
            "|      6|     emily|\n",
            "|      7|   william|\n",
            "|      8|     susan|\n",
            "|      9|     david|\n",
            "|     10|      sara|\n",
            "|     11|     james|\n",
            "|     12|    olivia|\n",
            "|     13|    robert|\n",
            "|     14|      emma|\n",
            "|     15|    mathew|\n",
            "|     16|  isabella|\n",
            "|     17|    joseph|\n",
            "|     18|     grace|\n",
            "|     19|chrisopher|\n",
            "|     20|       ava|\n",
            "+-------+----------+\n",
            "\n"
          ]
        }
      ]
    },
    {
      "cell_type": "code",
      "source": [
        "#3. Using concat_ws function\n",
        "df.withColumn(\"full_name\", concat_ws(\" \", \"cust_fname\", \"cust_lname\")).show()"
      ],
      "metadata": {
        "colab": {
          "base_uri": "https://localhost:8080/"
        },
        "id": "InJfiAlWo7fh",
        "outputId": "8e50c45d-fd6e-448d-9763-81e317c903f9"
      },
      "execution_count": 21,
      "outputs": [
        {
          "output_type": "stream",
          "name": "stdout",
          "text": [
            "+-------+----------+----------+----------+-----------+---------------+\n",
            "|cust_id|cust_fname|cust_lname|cust_order|cust_status|      full_name|\n",
            "+-------+----------+----------+----------+-----------+---------------+\n",
            "|      1|      john|       doe|         5|     active|       john doe|\n",
            "|      2|      jane|     smith|         8|     active|     jane smith|\n",
            "|      3|   micheal|   jhonson|         3|   inactive|micheal jhonson|\n",
            "|      4|      abhi|   wiliams|         1|     active|   abhi wiliams|\n",
            "|      5|       ram|     brown|         4|   inactive|      ram brown|\n",
            "|      6|     emily|  anderson|         2|     active| emily anderson|\n",
            "|      7|   william|     jones|        10|     active|  william jones|\n",
            "|      8|     susan|     davis|         7|   inactive|    susan davis|\n",
            "|      9|     david|    miller|         9|     active|   david miller|\n",
            "|     10|      sara|     moore|         2|   inactive|     sara moore|\n",
            "|     11|     james|    tailor|         5|   inactive|   james tailor|\n",
            "|     12|    olivia|    wilson|         3|   inactive|  olivia wilson|\n",
            "|     13|    robert|     evans|        11|     active|   robert evans|\n",
            "|     14|      emma|    thomas|        29|     active|    emma thomas|\n",
            "|     15|    mathew|     haris|         5|   inactive|   mathew haris|\n",
            "|     16|  isabella|     white|         6|   inactive| isabella white|\n",
            "|     17|    joseph|    martin|         4|   inactive|  joseph martin|\n",
            "|     18|     grace|       lee|         5|     active|      grace lee|\n",
            "|     19|chrisopher|      basa|         8|   inactive|chrisopher basa|\n",
            "|     20|       ava|    joesph|         3|     active|     ava joesph|\n",
            "+-------+----------+----------+----------+-----------+---------------+\n",
            "\n"
          ]
        }
      ]
    },
    {
      "cell_type": "code",
      "source": [
        "#4. GroupBy customer status\n",
        "df.groupBy(\"cust_status\").agg(count(\"*\").alias(\"total_customers\")).show()\n"
      ],
      "metadata": {
        "colab": {
          "base_uri": "https://localhost:8080/"
        },
        "id": "SiScwRxRp5_0",
        "outputId": "98b916b7-e015-41ca-850f-defd9b039ef2"
      },
      "execution_count": 22,
      "outputs": [
        {
          "output_type": "stream",
          "name": "stdout",
          "text": [
            "+-----------+---------------+\n",
            "|cust_status|total_customers|\n",
            "+-----------+---------------+\n",
            "|     active|             10|\n",
            "|   inactive|             10|\n",
            "+-----------+---------------+\n",
            "\n"
          ]
        }
      ]
    },
    {
      "cell_type": "code",
      "source": [
        "#5. Using min and max functions\n",
        "df.agg(max(\"cust_order\").alias(\"max_order\"), min(\"cust_order\").alias(\"min_order\")).show()\n"
      ],
      "metadata": {
        "colab": {
          "base_uri": "https://localhost:8080/"
        },
        "id": "xwV0AAQXqBIP",
        "outputId": "dde6c67e-1672-4706-ee6b-5beb10ec0706"
      },
      "execution_count": 23,
      "outputs": [
        {
          "output_type": "stream",
          "name": "stdout",
          "text": [
            "+---------+---------+\n",
            "|max_order|min_order|\n",
            "+---------+---------+\n",
            "|       29|        1|\n",
            "+---------+---------+\n",
            "\n"
          ]
        }
      ]
    },
    {
      "cell_type": "code",
      "source": [
        "#6. Uwindow functions\n",
        "windowSpec = Window.partitionBy(\"cust_status\").orderBy(col(\"cust_order\").desc())\n",
        "df.withColumn(\"rank\", rank().over(windowSpec)).show()\n"
      ],
      "metadata": {
        "colab": {
          "base_uri": "https://localhost:8080/"
        },
        "id": "bq5P0uTlqWAR",
        "outputId": "8806ec28-6cca-4137-8e77-84a242890f61"
      },
      "execution_count": 24,
      "outputs": [
        {
          "output_type": "stream",
          "name": "stdout",
          "text": [
            "+-------+----------+----------+----------+-----------+----+\n",
            "|cust_id|cust_fname|cust_lname|cust_order|cust_status|rank|\n",
            "+-------+----------+----------+----------+-----------+----+\n",
            "|     14|      emma|    thomas|        29|     active|   1|\n",
            "|     13|    robert|     evans|        11|     active|   2|\n",
            "|      7|   william|     jones|        10|     active|   3|\n",
            "|      9|     david|    miller|         9|     active|   4|\n",
            "|      2|      jane|     smith|         8|     active|   5|\n",
            "|      1|      john|       doe|         5|     active|   6|\n",
            "|     18|     grace|       lee|         5|     active|   6|\n",
            "|     20|       ava|    joesph|         3|     active|   8|\n",
            "|      6|     emily|  anderson|         2|     active|   9|\n",
            "|      4|      abhi|   wiliams|         1|     active|  10|\n",
            "|     19|chrisopher|      basa|         8|   inactive|   1|\n",
            "|      8|     susan|     davis|         7|   inactive|   2|\n",
            "|     16|  isabella|     white|         6|   inactive|   3|\n",
            "|     11|     james|    tailor|         5|   inactive|   4|\n",
            "|     15|    mathew|     haris|         5|   inactive|   4|\n",
            "|      5|       ram|     brown|         4|   inactive|   6|\n",
            "|     17|    joseph|    martin|         4|   inactive|   6|\n",
            "|      3|   micheal|   jhonson|         3|   inactive|   8|\n",
            "|     12|    olivia|    wilson|         3|   inactive|   8|\n",
            "|     10|      sara|     moore|         2|   inactive|  10|\n",
            "+-------+----------+----------+----------+-----------+----+\n",
            "\n"
          ]
        }
      ]
    },
    {
      "cell_type": "code",
      "source": [
        "df.withColumn(\"cumulative_orders\", sum(\"cust_order\").over(windowSpec)).show()\n"
      ],
      "metadata": {
        "colab": {
          "base_uri": "https://localhost:8080/"
        },
        "id": "wqlSteQnq4V5",
        "outputId": "8634510c-7982-43bf-e2ac-412c16ea3f88"
      },
      "execution_count": 25,
      "outputs": [
        {
          "output_type": "stream",
          "name": "stdout",
          "text": [
            "+-------+----------+----------+----------+-----------+-----------------+\n",
            "|cust_id|cust_fname|cust_lname|cust_order|cust_status|cumulative_orders|\n",
            "+-------+----------+----------+----------+-----------+-----------------+\n",
            "|     14|      emma|    thomas|        29|     active|               29|\n",
            "|     13|    robert|     evans|        11|     active|               40|\n",
            "|      7|   william|     jones|        10|     active|               50|\n",
            "|      9|     david|    miller|         9|     active|               59|\n",
            "|      2|      jane|     smith|         8|     active|               67|\n",
            "|      1|      john|       doe|         5|     active|               77|\n",
            "|     18|     grace|       lee|         5|     active|               77|\n",
            "|     20|       ava|    joesph|         3|     active|               80|\n",
            "|      6|     emily|  anderson|         2|     active|               82|\n",
            "|      4|      abhi|   wiliams|         1|     active|               83|\n",
            "|     19|chrisopher|      basa|         8|   inactive|                8|\n",
            "|      8|     susan|     davis|         7|   inactive|               15|\n",
            "|     16|  isabella|     white|         6|   inactive|               21|\n",
            "|     11|     james|    tailor|         5|   inactive|               31|\n",
            "|     15|    mathew|     haris|         5|   inactive|               31|\n",
            "|      5|       ram|     brown|         4|   inactive|               39|\n",
            "|     17|    joseph|    martin|         4|   inactive|               39|\n",
            "|      3|   micheal|   jhonson|         3|   inactive|               45|\n",
            "|     12|    olivia|    wilson|         3|   inactive|               45|\n",
            "|     10|      sara|     moore|         2|   inactive|               47|\n",
            "+-------+----------+----------+----------+-----------+-----------------+\n",
            "\n"
          ]
        }
      ]
    },
    {
      "cell_type": "code",
      "source": [
        "# using map()\n",
        "from pyspark.sql import SparkSession\n",
        "spark = SparkSession.builder.appName(\"CodingChallenge\").getOrCreate()\n",
        "\n",
        "sc = spark.sparkContext\n",
        "my_rdd = sc.parallelize([1, 2, 3, 4])\n",
        "\n",
        "result = my_rdd.map(lambda x: x + 10).collect()\n",
        "print(result)\n"
      ],
      "metadata": {
        "colab": {
          "base_uri": "https://localhost:8080/"
        },
        "id": "INHev2uAz1Cy",
        "outputId": "8e9e10d2-e134-4285-b502-c28e506e27ac"
      },
      "execution_count": 42,
      "outputs": [
        {
          "output_type": "stream",
          "name": "stdout",
          "text": [
            "[11, 12, 13, 14]\n"
          ]
        }
      ]
    },
    {
      "cell_type": "code",
      "source": [
        "flatmap_rdd = sc.parallelize([\"Hii \", \"This is Pooja, doing my coding challenge \"])\n",
        "(flatmap_rdd.flatMap(lambda x: x.split(\" \")).collect())\n"
      ],
      "metadata": {
        "colab": {
          "base_uri": "https://localhost:8080/"
        },
        "id": "PWAZZO6p0dtw",
        "outputId": "6d6e4312-ed2d-4a67-cc4b-073aba5b8130"
      },
      "execution_count": 43,
      "outputs": [
        {
          "output_type": "execute_result",
          "data": {
            "text/plain": [
              "['Hii', '', 'This', 'is', 'Pooja,', 'doing', 'my', 'coding', 'challenge', '']"
            ]
          },
          "metadata": {},
          "execution_count": 43
        }
      ]
    },
    {
      "cell_type": "code",
      "source": [],
      "metadata": {
        "id": "P3CqJvEo36Wh"
      },
      "execution_count": null,
      "outputs": []
    },
    {
      "cell_type": "code",
      "source": [
        "#using SortByKey()\n",
        "orders_rdd = sc.parallelize([('Pooja', 20), ('Sakthi', 27), ('reya', 22), ('Abi', 29), ('Roshan', 22), ('nithis', 23), ('nadish', 19), ('reya', 28), ('Abi', 26), ('Roshan', 22)])\n",
        "print(orders_rdd.sortByKey('ascending').collect())\n"
      ],
      "metadata": {
        "colab": {
          "base_uri": "https://localhost:8080/"
        },
        "id": "9YUnJjwq0yIX",
        "outputId": "2d053a98-65b0-4c65-e556-ea9615564ce4"
      },
      "execution_count": 44,
      "outputs": [
        {
          "output_type": "stream",
          "name": "stdout",
          "text": [
            "[('Abi', 29), ('Abi', 26), ('Pooja', 20), ('Roshan', 22), ('Roshan', 22), ('Sakthi', 27), ('nadish', 19), ('nithis', 23), ('reya', 22), ('reya', 28)]\n"
          ]
        }
      ]
    },
    {
      "cell_type": "code",
      "source": [
        "# Actions\n",
        "\n",
        "records = df.collect()\n",
        "for r in records:\n",
        "    print(r)\n"
      ],
      "metadata": {
        "colab": {
          "base_uri": "https://localhost:8080/"
        },
        "id": "vlS8qHngq-Bb",
        "outputId": "23f404d9-edf3-4688-b4b9-8885a439e778"
      },
      "execution_count": 35,
      "outputs": [
        {
          "output_type": "stream",
          "name": "stdout",
          "text": [
            "Row(cust_id=1, cust_fname='john', cust_lname='doe', cust_order=5, cust_status='active')\n",
            "Row(cust_id=2, cust_fname='jane', cust_lname='smith', cust_order=8, cust_status='active')\n",
            "Row(cust_id=3, cust_fname='micheal', cust_lname='jhonson', cust_order=3, cust_status='inactive')\n",
            "Row(cust_id=4, cust_fname='abhi', cust_lname='wiliams', cust_order=1, cust_status='active')\n",
            "Row(cust_id=5, cust_fname='ram', cust_lname='brown', cust_order=4, cust_status='inactive')\n",
            "Row(cust_id=6, cust_fname='emily', cust_lname='anderson', cust_order=2, cust_status='active')\n",
            "Row(cust_id=7, cust_fname='william', cust_lname='jones', cust_order=10, cust_status='active')\n",
            "Row(cust_id=8, cust_fname='susan', cust_lname='davis', cust_order=7, cust_status='inactive')\n",
            "Row(cust_id=9, cust_fname='david', cust_lname='miller', cust_order=9, cust_status='active')\n",
            "Row(cust_id=10, cust_fname='sara', cust_lname='moore', cust_order=2, cust_status='inactive')\n",
            "Row(cust_id=11, cust_fname='james', cust_lname='tailor', cust_order=5, cust_status='inactive')\n",
            "Row(cust_id=12, cust_fname='olivia', cust_lname='wilson', cust_order=3, cust_status='inactive')\n",
            "Row(cust_id=13, cust_fname='robert', cust_lname='evans', cust_order=11, cust_status='active')\n",
            "Row(cust_id=14, cust_fname='emma', cust_lname='thomas', cust_order=29, cust_status='active')\n",
            "Row(cust_id=15, cust_fname='mathew', cust_lname='haris', cust_order=5, cust_status='inactive')\n",
            "Row(cust_id=16, cust_fname='isabella', cust_lname='white', cust_order=6, cust_status='inactive')\n",
            "Row(cust_id=17, cust_fname='joseph', cust_lname='martin', cust_order=4, cust_status='inactive')\n",
            "Row(cust_id=18, cust_fname='grace', cust_lname='lee', cust_order=5, cust_status='active')\n",
            "Row(cust_id=19, cust_fname='chrisopher', cust_lname='basa', cust_order=8, cust_status='inactive')\n",
            "Row(cust_id=20, cust_fname='ava', cust_lname='joesph', cust_order=3, cust_status='active')\n"
          ]
        }
      ]
    },
    {
      "cell_type": "code",
      "source": [
        "# Using count()\n",
        "print(\"Total records: \",df.count())"
      ],
      "metadata": {
        "colab": {
          "base_uri": "https://localhost:8080/"
        },
        "id": "i8BmpjVlrpF4",
        "outputId": "e876bffd-c313-4fc8-b9e8-df40687d9e3f"
      },
      "execution_count": 31,
      "outputs": [
        {
          "output_type": "stream",
          "name": "stdout",
          "text": [
            "Total records:  20\n"
          ]
        }
      ]
    },
    {
      "cell_type": "code",
      "source": [
        "# printing the first row\n",
        "print(df.first())"
      ],
      "metadata": {
        "colab": {
          "base_uri": "https://localhost:8080/"
        },
        "id": "BJTaPLoJrvHQ",
        "outputId": "51f2f385-0bfa-4e4c-c1f5-71d3a8a934a6"
      },
      "execution_count": 30,
      "outputs": [
        {
          "output_type": "stream",
          "name": "stdout",
          "text": [
            "Row(cust_id=1, cust_fname='john', cust_lname='doe', cust_order=5, cust_status='active')\n"
          ]
        }
      ]
    },
    {
      "cell_type": "code",
      "source": [
        "# using take action\n",
        "print(df.take(3))"
      ],
      "metadata": {
        "colab": {
          "base_uri": "https://localhost:8080/"
        },
        "id": "cGtv08qTteSD",
        "outputId": "4dfdd393-c5c2-4ad7-8459-b46b2ad493da"
      },
      "execution_count": 33,
      "outputs": [
        {
          "output_type": "stream",
          "name": "stdout",
          "text": [
            "[Row(cust_id=1, cust_fname='john', cust_lname='doe', cust_order=5, cust_status='active'), Row(cust_id=2, cust_fname='jane', cust_lname='smith', cust_order=8, cust_status='active'), Row(cust_id=3, cust_fname='micheal', cust_lname='jhonson', cust_order=3, cust_status='inactive')]\n"
          ]
        }
      ]
    },
    {
      "cell_type": "code",
      "source": [
        "#using reduce()\n",
        "from pyspark.sql import SparkSession\n",
        "spark = SparkSession.builder.appName(\"CodingChallenge\").getOrCreate()\n",
        "\n",
        "sc = spark.sparkContext\n",
        "reduce_rdd = sc.parallelize([1, 2, 3, 4, 5, 6, 7])\n",
        "\n",
        "result = reduce_rdd.reduce(lambda x, y: x + y)\n",
        "print(\"Sum using reduce():\", result)\n"
      ],
      "metadata": {
        "colab": {
          "base_uri": "https://localhost:8080/"
        },
        "id": "D6wwbJMcynGi",
        "outputId": "8f9909a6-4542-408e-9d57-175d5e648d93"
      },
      "execution_count": 38,
      "outputs": [
        {
          "output_type": "stream",
          "name": "stdout",
          "text": [
            "Sum using reduce(): 28\n"
          ]
        }
      ]
    }
  ]
}